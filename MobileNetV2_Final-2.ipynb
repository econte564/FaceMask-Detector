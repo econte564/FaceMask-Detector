{
  "nbformat": 4,
  "nbformat_minor": 0,
  "metadata": {
    "kernelspec": {
      "display_name": "Python 3",
      "language": "python",
      "name": "python3"
    },
    "language_info": {
      "codemirror_mode": {
        "name": "ipython",
        "version": 3
      },
      "file_extension": ".py",
      "mimetype": "text/x-python",
      "name": "python",
      "nbconvert_exporter": "python",
      "pygments_lexer": "ipython3",
      "version": "3.7.6"
    },
    "colab": {
      "name": "MobileNetV2_Final.ipynb",
      "provenance": [],
      "collapsed_sections": []
    },
    "accelerator": "GPU"
  },
  "cells": [
    {
      "cell_type": "code",
      "metadata": {
        "id": "ybJz7OfGP2OG"
      },
      "source": [
        "!pip install -U -q PyDrive\n",
        "from pydrive.auth import GoogleAuth\n",
        "from pydrive.drive import GoogleDrive\n",
        "from google.colab import auth\n",
        "from oauth2client.client import GoogleCredentials\n",
        " \n",
        "auth.authenticate_user()\n",
        "gauth = GoogleAuth()\n",
        "gauth.credentials = GoogleCredentials.get_application_default()\n",
        "drive = GoogleDrive(gauth)"
      ],
      "execution_count": null,
      "outputs": []
    },
    {
      "cell_type": "code",
      "metadata": {
        "id": "KUr4WLqkVCdf",
        "colab": {
          "base_uri": "https://localhost:8080/"
        },
        "outputId": "b36c139e-cbc3-4246-f5d0-dcd67e5790c8"
      },
      "source": [
        "from google.colab import drive\n",
        "drive.mount('/content/drive')"
      ],
      "execution_count": null,
      "outputs": [
        {
          "output_type": "stream",
          "text": [
            "Mounted at /content/drive\n"
          ],
          "name": "stdout"
        }
      ]
    },
    {
      "cell_type": "code",
      "metadata": {
        "id": "LjbzZ7ErP3m8"
      },
      "source": [
        "!unzip '/content/drive/My Drive/PROJECT DS LAB/dataset.zip'"
      ],
      "execution_count": null,
      "outputs": []
    },
    {
      "cell_type": "markdown",
      "metadata": {
        "id": "frdovblJSvxV"
      },
      "source": [
        "# Import librerie e Pre-Processing Immagini"
      ]
    },
    {
      "cell_type": "code",
      "metadata": {
        "id": "CRJ-Ux-sP2Ob"
      },
      "source": [
        "from tensorflow.keras.preprocessing.image import ImageDataGenerator\n",
        "from tensorflow.keras.applications import MobileNetV2\n",
        "from tensorflow.keras.layers import AveragePooling2D\n",
        "from tensorflow.keras.layers import Dropout\n",
        "from tensorflow.keras.layers import Flatten\n",
        "from tensorflow.keras.layers import Dense\n",
        "from tensorflow.keras.layers import Input\n",
        "from tensorflow.keras.models import Model\n",
        "from tensorflow.keras.optimizers import Adam\n",
        "from tensorflow.keras.optimizers import SGD\n",
        "from tensorflow.keras.applications.mobilenet_v2 import preprocess_input\n",
        "from tensorflow.keras.preprocessing.image import img_to_array\n",
        "from tensorflow.keras.preprocessing.image import load_img\n",
        "from tensorflow.keras.utils import to_categorical\n",
        "from sklearn.preprocessing import LabelBinarizer\n",
        "from sklearn.model_selection import train_test_split\n",
        "from sklearn.metrics import classification_report\n",
        "from imutils import paths\n",
        "import matplotlib.pyplot as plt\n",
        "import numpy as np\n",
        "import argparse\n",
        "import os"
      ],
      "execution_count": null,
      "outputs": []
    },
    {
      "cell_type": "code",
      "metadata": {
        "id": "H_FrlcDtZ2Ed",
        "colab": {
          "base_uri": "https://localhost:8080/"
        },
        "outputId": "19f3575a-f646-4af1-f1f1-96546eae95c6"
      },
      "source": [
        "imagePaths = paths.list_images('/content/dataset') \n",
        "\n",
        "data = []\n",
        "labels = []\n",
        "# iterazione sul percorso delle immagini\n",
        "for imagePath in imagePaths:\n",
        "    # estraggo la class label dal nome de file\n",
        "    label = imagePath.split(os.path.sep)[-2]\n",
        "    # carico le immagini di input (224x224) e avvio il pre-processing\n",
        "    image = load_img(imagePath, target_size=(224, 224))\n",
        "    image = img_to_array(image)\n",
        "    image = preprocess_input(image)  # standardizza le immagini secondo le dimensioni di input preferite dal modello.\n",
        "    # aggiorno data, label e liste\n",
        "    data.append(image)\n",
        "    labels.append(label)\n",
        "# converto i dati e le labels in array di Numpy\n",
        "data = np.array(data, dtype=\"float32\")\n",
        "labels = np.array(labels)\n",
        "print('Finished...')"
      ],
      "execution_count": null,
      "outputs": [
        {
          "output_type": "stream",
          "text": [
            "Finished...\n"
          ],
          "name": "stdout"
        }
      ]
    },
    {
      "cell_type": "code",
      "metadata": {
        "id": "-b5c5o9LNm9m"
      },
      "source": [
        "print(labels)"
      ],
      "execution_count": null,
      "outputs": []
    },
    {
      "cell_type": "code",
      "metadata": {
        "id": "8ltiWRzlP2O3",
        "colab": {
          "base_uri": "https://localhost:8080/"
        },
        "outputId": "805dd7df-6363-4285-e3e6-e3c3c64b846b"
      },
      "source": [
        "# eseguo il one-hot encoding sulle labels delle immagini\n",
        "lb = LabelBinarizer()\n",
        "labels = lb.fit_transform(labels)\n",
        "labels = to_categorical(labels)\n",
        "print('Encoded')"
      ],
      "execution_count": null,
      "outputs": [
        {
          "output_type": "stream",
          "text": [
            "Encoded\n"
          ],
          "name": "stdout"
        }
      ]
    },
    {
      "cell_type": "code",
      "metadata": {
        "id": "x3SA7iq_P2PA"
      },
      "source": [
        "# partiziono i dati in training set e test set. \n",
        "#Lo split applicato è di tipo 80-20 con compionamento stratificato sulle labels\n",
        " \n",
        "(trainX, testX, trainY, testY) = train_test_split(data, labels,\n",
        "                                 test_size=0.20, stratify=labels,\n",
        "                                 random_state=40)\n",
        "\n",
        "#trainY = np.asarray(trainY).astype('float32').reshape((-1,1))\n",
        "#testY = np.asarray(trainY).astype('float32').reshape((-1,1))"
      ],
      "execution_count": null,
      "outputs": []
    },
    {
      "cell_type": "code",
      "metadata": {
        "colab": {
          "base_uri": "https://localhost:8080/"
        },
        "id": "XWLZaXKn_pjq",
        "outputId": "c1d002ba-b903-4229-c447-4a85f7bb1b0d"
      },
      "source": [
        "trainX\n",
        "testX\n",
        "trainY\n",
        "testY"
      ],
      "execution_count": null,
      "outputs": [
        {
          "output_type": "execute_result",
          "data": {
            "text/plain": [
              "array([[1., 0.],\n",
              "       [0., 1.],\n",
              "       [0., 1.],\n",
              "       [0., 1.],\n",
              "       [1., 0.],\n",
              "       [0., 1.]], dtype=float32)"
            ]
          },
          "metadata": {
            "tags": []
          },
          "execution_count": 75
        }
      ]
    },
    {
      "cell_type": "code",
      "metadata": {
        "id": "NxsMRy_QP2PC"
      },
      "source": [
        "#Definisco una funzione che permette di aggiungere rumore all'immagine applicando trasformazioni all'immagine di partenza. Così facendo, l'intenzione è quella di permettere al modello di\n",
        "# ottenere una maggior capacità d generalizzazione.\n",
        "aug = ImageDataGenerator(\n",
        "    rotation_range=20,\n",
        "    zoom_range=0.15,            # tutti questi parametri sono dei 'range', ovvero le trasformazioni per ogni immagini saranno diverse.\n",
        "    width_shift_range=0.2,       #  Ad ogni iterazione, eseguita dal metodo .flow, i parametri dell'augmentation varieranno casualmente entro i range fissati qui.\n",
        "    height_shift_range=0.2,\n",
        "    shear_range=0.15,\n",
        "    horizontal_flip=True,\n",
        "    fill_mode=\"nearest\")"
      ],
      "execution_count": null,
      "outputs": []
    },
    {
      "cell_type": "code",
      "metadata": {
        "id": "uuHEmOP9P2PO",
        "colab": {
          "base_uri": "https://localhost:8080/",
          "height": 37
        },
        "outputId": "6d3acf9a-07fd-4a81-bc78-f9ecf92ae552"
      },
      "source": [
        "# Stabilisco i parametri di partenza. In particolare, inizilizziamo il learning rate, il numero di epoche e la dimensione dei batches\n",
        "INIT_LR = 1e-4\n",
        "EPOCHS = 30\n",
        "BS = 1\n",
        "('Initialized...')"
      ],
      "execution_count": null,
      "outputs": [
        {
          "output_type": "execute_result",
          "data": {
            "application/vnd.google.colaboratory.intrinsic+json": {
              "type": "string"
            },
            "text/plain": [
              "'Initialized...'"
            ]
          },
          "metadata": {
            "tags": []
          },
          "execution_count": 60
        }
      ]
    },
    {
      "cell_type": "markdown",
      "metadata": {
        "id": "V_Yqly19S4h8"
      },
      "source": [
        "# Definizione Modello MobileNetV2"
      ]
    },
    {
      "cell_type": "code",
      "metadata": {
        "id": "WweAw-6NP2PI",
        "colab": {
          "base_uri": "https://localhost:8080/"
        },
        "outputId": "59e8f904-d99a-451c-fbee-7d9d416c9640"
      },
      "source": [
        "# Carichiamo il modello MobileNetV2, \n",
        "# assicurandoci di non includere gli strati Fully Connected per ora.\n",
        "baseModel = MobileNetV2(weights=\"imagenet\", include_top=False,\n",
        "    input_tensor=Input(shape=(224, 224, 3)))\n",
        "\n",
        "# Costruiamo la 'Head' del modello, che sarà posizionata sopra il Base Model\n",
        "headModel = baseModel.output\n",
        "headModel = AveragePooling2D(pool_size=(7, 7))(headModel)\n",
        "headModel = Flatten(name=\"flatten\")(headModel)\n",
        "headModel = Dense(128, activation=\"relu\")(headModel)\n",
        "headModel = Dropout(0.5)(headModel)\n",
        "headModel = Dense(2, activation=\"softmax\")(headModel) \n",
        "                        \n",
        "# Posizioniamo la 'Head' del modello (che contiene i nostri strati Fully Connected) sopra il Base Model\n",
        "model = Model(inputs=baseModel.input, outputs=headModel)\n",
        "\n",
        "# Iteriamo sopra tutti gli strati del Base Model. Contestualmente applichiamo un Freeze, in modo che i relativi parametri \n",
        "# non vengano aggiornati durante il processo di training\n",
        "for layer in baseModel.layers:\n",
        "    layer.trainable = False"
      ],
      "execution_count": null,
      "outputs": [
        {
          "output_type": "stream",
          "text": [
            "WARNING:tensorflow:`input_shape` is undefined or non-square, or `rows` is not in [96, 128, 160, 192, 224]. Weights for input shape (224, 224) will be loaded as the default.\n"
          ],
          "name": "stdout"
        }
      ]
    },
    {
      "cell_type": "code",
      "metadata": {
        "id": "hffzdOFuP2PR",
        "colab": {
          "base_uri": "https://localhost:8080/"
        },
        "outputId": "ac99b8a9-9ad7-4ce5-d98e-da575e2f2060"
      },
      "source": [
        "# Compiliamo il modello specificando la funzione di Ottimizzazione, la funzione di Perdita e la metrica per valutare la performance\n",
        "opt = Adam(lr=INIT_LR, decay=INIT_LR / EPOCHS)\n",
        "model.compile(loss=\"binary_crossentropy\", optimizer=opt,\n",
        "    metrics=[\"accuracy\"])\n",
        "print('Compiled...')"
      ],
      "execution_count": null,
      "outputs": [
        {
          "output_type": "stream",
          "text": [
            "Compiled...\n"
          ],
          "name": "stdout"
        }
      ]
    },
    {
      "cell_type": "code",
      "metadata": {
        "id": "A0SCkp9DP2PT"
      },
      "source": [
        "model.summary()"
      ],
      "execution_count": null,
      "outputs": []
    },
    {
      "cell_type": "code",
      "metadata": {
        "id": "DqHJcPX2P2PX"
      },
      "source": [
        "# Fitting del Modello\n",
        "H = model.fit(\n",
        "    aug.flow(trainX, trainY, batch_size=BS),\n",
        "    steps_per_epoch=len(trainX) // BS,\n",
        "    validation_data=(testX, testY),\n",
        "    validation_steps=len(testX) // BS,\n",
        "    epochs=EPOCHS)"
      ],
      "execution_count": null,
      "outputs": []
    },
    {
      "cell_type": "code",
      "metadata": {
        "id": "GMIYQXcoP2PZ"
      },
      "source": [
        "model.save('/content/drive/My Drive/Ds_lab/Modelli_Trained/MobileNet_ToBeTuned_', save_format=\"h5\")"
      ],
      "execution_count": null,
      "outputs": []
    },
    {
      "cell_type": "code",
      "metadata": {
        "id": "Y0vKmXAXP2Pd",
        "colab": {
          "base_uri": "https://localhost:8080/",
          "height": 170
        },
        "outputId": "cf5ac307-8a6e-4a8d-c64c-c13ad016a082"
      },
      "source": [
        "# per ogni immagine nel test set troviamo l'indice della label alla quale è collegata la probabilità predetta più alta. \n",
        "predIdxs = model.predict(testX, batch_size=BS)\n",
        "predIdxs = np.argmax(predIdxs, axis=1)\n",
        "\n",
        "# Printiamo un report della performance del modello\n",
        "print(classification_report(testY.argmax(axis=1), predIdxs,target_names=lb.classes_))"
      ],
      "execution_count": null,
      "outputs": [
        {
          "output_type": "stream",
          "text": [
            "                   precision    recall  f1-score   support\n",
            "\n",
            "   face_with_mask       0.98      0.99      0.99       441\n",
            "face_without_mask       0.99      0.99      0.99       973\n",
            "\n",
            "         accuracy                           0.99      1414\n",
            "        macro avg       0.99      0.99      0.99      1414\n",
            "     weighted avg       0.99      0.99      0.99      1414\n",
            "\n"
          ],
          "name": "stdout"
        }
      ]
    },
    {
      "cell_type": "code",
      "metadata": {
        "id": "xxicKWt59qbk",
        "colab": {
          "base_uri": "https://localhost:8080/",
          "height": 534
        },
        "outputId": "d7b13f88-7337-42c1-9a95-c7f151de345c"
      },
      "source": [
        "## Plotting Training Loss Accuracy per Epoca\n",
        "N = EPOCHS\n",
        "H = history\n",
        "START = 0\n",
        "plt.style.use(\"ggplot\")\n",
        "plt.figure()\n",
        "plt.figure(figsize=(12,8))\n",
        "plt.axvline(11,label='Best number of epochs', color='m')\n",
        "plt.plot(np.arange(START, N), H.history[\"loss\"][START:30], label=\"Train_Loss\")\n",
        "plt.plot(np.arange(START, N), H.history[\"val_loss\"][START:30], label=\"Val_Loss\")\n",
        "plt.plot(np.arange(START, N), H.history[\"accuracy\"][START:30], label=\"Train_Acc\")\n",
        "plt.plot(np.arange(START, N), H.history[\"val_accuracy\"][START:30], label=\"Val_Acc\")\n",
        "plt.title(\"Training Loss and Accuracy\")\n",
        "plt.xlabel(\"Epoch #\")\n",
        "plt.ylabel(\"Loss/Accuracy\")\n",
        "plt.legend(loc=\"center right\")\n",
        "plt.savefig('/content/drive/My Drive/Ds_lab/Modelli_Trained/Training_Loss_Accuracy.jpg')"
      ],
      "execution_count": null,
      "outputs": [
        {
          "output_type": "display_data",
          "data": {
            "text/plain": [
              "<Figure size 432x288 with 0 Axes>"
            ]
          },
          "metadata": {
            "tags": []
          }
        },
        {
          "output_type": "display_data",
          "data": {
            "image/png": "[encoded data removed]",
            "text/plain": [
              "<Figure size 864x576 with 1 Axes>"
            ]
          },
          "metadata": {
            "tags": []
          }
        }
      ]
    },
    {
      "cell_type": "markdown",
      "metadata": {
        "id": "6nLywQRYP2Ph"
      },
      "source": [
        "# Importo il Face Detector e il Face_Mask Detector"
      ]
    },
    {
      "cell_type": "code",
      "metadata": {
        "id": "OE4VACMvP2Ph"
      },
      "source": [
        "from tensorflow.keras.applications.mobilenet_v2 import preprocess_input\n",
        "from tensorflow.keras.preprocessing.image import img_to_array\n",
        "from tensorflow.keras.models import load_model\n",
        "import numpy as np\n",
        "import argparse\n",
        "import cv2\n",
        "import os"
      ],
      "execution_count": null,
      "outputs": []
    },
    {
      "cell_type": "code",
      "metadata": {
        "id": "KUurrf0DP2Pj"
      },
      "source": [
        "prototxtPath = os.path.sep.join(['/content/drive/My Drive/PROJECT DS LAB/face_detector/', \"deploy.prototxt\"])\n",
        "weightsPath = os.path.sep.join(['/content/drive/My Drive/PROJECT DS LAB/face_detector/',\"res10_300x300_ssd_iter_140000.caffemodel\"])\n",
        "net = cv2.dnn.readNet(prototxtPath, weightsPath)\n",
        "model = load_model('/content/drive/My Drive/PROJECT DS LAB/Modelli_Trained/MobileNet_Tuned_Hyperband2')"
      ],
      "execution_count": null,
      "outputs": []
    },
    {
      "cell_type": "code",
      "metadata": {
        "id": "j8pgdaeCP2Pn"
      },
      "source": [
        "image = cv2.imread(r'/content/drive/My Drive/PROJECT DS LAB/self-built-masked-face-recognition-dataset/dataset/examples/example_03.png')\n",
        "#image = cv2.imread('/content/drive/My Drive/PROJECT DS LAB/self-built-masked-face-recognition-dataset/Tia_Example/tia1.jpg')\n",
        "#image = cv2.imread('/content/drive/My Drive/PROJECT DS LAB/self-built-masked-face-recognition-dataset/Tia_Example/tia2.jpg')\n",
        "#image = cv2.imread('/content/drive/My Drive/PROJECT DS LAB/self-built-masked-face-recognition-dataset/Tia_Example/tia3.jpg')\n",
        "#image = cv2.imread('/content/drive/My Drive/PROJECT DS LAB/self-built-masked-face-recognition-dataset/Tia_Example/tia4.jpg')\n",
        "\n",
        "#Estraggo i valori di hight e width\n",
        "(h, w) = image.shape[:2]\n",
        "#Costruisco un blob dall'immagine\n",
        "blob = cv2.dnn.blobFromImage(image, 1.0, (300, 300),(104.0, 177.0, 123.0))\n",
        "#Passo il blob al Face Network che mi fornisce le face detections\n",
        "net.setInput(blob)\n",
        "detections = net.forward()"
      ],
      "execution_count": null,
      "outputs": []
    },
    {
      "cell_type": "code",
      "metadata": {
        "id": "XQZ070-nP2Pp",
        "colab": {
          "base_uri": "https://localhost:8080/"
        },
        "outputId": "0de4dc44-c173-4de6-bebd-94bbbd1940a9"
      },
      "source": [
        "for i in range(0, detections.shape[2]):\n",
        "    #Per ciascuna detections, estraggo il valore della confidenza\n",
        "    confidence = detections[0, 0, i, 2]\n",
        "    #Considero solo le detections che hanno una condifenza maggiore di una determinata soglia\n",
        "    if confidence > 0.4:\n",
        "        #Considero le coordinate del box in cui è presente la faccia\n",
        "        box = detections[0, 0, i, 3:7] * np.array([w, h, w, h])\n",
        "        (startX, startY, endX, endY) = box.astype(\"int\")\n",
        "        #Mi assicuro che il box in cui è presente l'immagine sta all'interno del \n",
        "        #frame\n",
        "        (startX, startY) = (max(0, startX), max(0, startY))\n",
        "        (endX, endY) = (min(w - 1, endX), min(h - 1, endY))\n",
        "        \n",
        "        #Estraggo dall'immagine la ROI\n",
        "        face = image[startY:endY, startX:endX]\n",
        "        #Converto l'immagine da BGR a RGB\n",
        "        face = cv2.cvtColor(face, cv2.COLOR_BGR2RGB)\n",
        "        #Resize della faccia in quanto la rete LeNet è allenata su immagini\n",
        "        #di dimensione 224x224\n",
        "        face = cv2.resize(face, (224, 224))\n",
        "        #Trasformo in array\n",
        "        face = img_to_array(face)\n",
        "        #Preprocess dell'immagine\n",
        "        face = preprocess_input(face)\n",
        "        face = np.expand_dims(face, axis=0)\n",
        "        \n",
        "        #Passo la faccia al modello LeNet\n",
        "        (mask, withoutMask) = model.predict(face)[0]\n",
        "        #Determino se la faccia ha o meno la maschera e definisco\n",
        "        #il colore rosso per No Mask e verde per Mask. \n",
        "        label = \"Mask\" if mask > withoutMask else \"No Mask\"\n",
        "        color = (0, 255, 0) if label == \"Mask\" else (0, 0, 255)\n",
        "        #Formatto la probabilità delle label\n",
        "        label = \"{}: {:.2f}%\".format(label, max(mask, withoutMask) * 100)\n",
        "        #Predispongo la visualzzione del frame, della label\n",
        "        # e della probabilità prevista dal modello\n",
        "        cv2.putText(image, label, (startX, startY - 10),\n",
        "            cv2.FONT_HERSHEY_SIMPLEX, 0.45, color, 2)\n",
        "        cv2.rectangle(image, (startX, startY), (endX, endY), color, 2)\n",
        "        print(label)"
      ],
      "execution_count": null,
      "outputs": [
        {
          "output_type": "stream",
          "text": [
            "No Mask: 100.00%\n",
            "No Mask: 62.08%\n",
            "Mask: 100.00%\n"
          ],
          "name": "stdout"
        }
      ]
    },
    {
      "cell_type": "code",
      "metadata": {
        "id": "_5KTa52LP2Pq",
        "colab": {
          "base_uri": "https://localhost:8080/",
          "height": 434
        },
        "outputId": "5b01306f-fcf7-421e-e4fe-44e4a4c03064"
      },
      "source": [
        "from google.colab.patches import cv2_imshow\n",
        "\n",
        "cv2_imshow(image)\n",
        "cv2.waitKey(0)"
      ],
      "execution_count": null,
      "outputs": [
        {
          "output_type": "display_data",
          "data": {
            "image/png": "[encoded data removed]",
            "text/plain": [
              "<PIL.Image.Image image mode=RGB size=600x400 at 0x7F50C01147F0>"
            ]
          },
          "metadata": {
            "tags": []
          }
        },
        {
          "output_type": "execute_result",
          "data": {
            "text/plain": [
              "-1"
            ]
          },
          "metadata": {
            "tags": []
          },
          "execution_count": 20
        }
      ]
    },
    {
      "cell_type": "markdown",
      "metadata": {
        "id": "eN-dq618lLbn"
      },
      "source": [
        "# FINE TUNING"
      ]
    },
    {
      "cell_type": "code",
      "metadata": {
        "id": "fmTNHmc2lQUH",
        "colab": {
          "base_uri": "https://localhost:8080/",
          "height": 530
        },
        "outputId": "2658df80-5c6d-41bd-8fb6-0b1a6128931a"
      },
      "source": [
        "import tensorflow.python.keras\n",
        "from tensorflow.python.keras.models import Sequential\n",
        "from tensorflow.python.keras.layers import Dense, Dropout\n",
        "from tensorflow.python.keras import backend as K\n",
        "\n",
        "from tensorflow.python.keras import utils, layers, Sequential\n",
        "\n",
        "!pip install -U keras-tuner\n",
        "import kerastuner\n",
        "from kerastuner import RandomSearch\n",
        "from kerastuner import BayesianOptimization\n",
        "from kerastuner import Hyperband\n",
        "import pandas as pd\n",
        "import numpy as np\n",
        "import os"
      ],
      "execution_count": null,
      "outputs": [
        {
          "output_type": "stream",
          "text": [
            "Collecting keras-tuner\n",
            "\u001b[?25l  Downloading https://files.pythonhosted.org/packages/a7/f7/4b41b6832abf4c9bef71a664dc563adb25afc5812831667c6db572b1a261/keras-tuner-1.0.1.tar.gz (54kB)\n",
            "\r\u001b[K     |██████                          | 10kB 24.9MB/s eta 0:00:01\r\u001b[K     |████████████                    | 20kB 6.0MB/s eta 0:00:01\r\u001b[K     |██████████████████              | 30kB 7.4MB/s eta 0:00:01\r\u001b[K     |████████████████████████        | 40kB 8.2MB/s eta 0:00:01\r\u001b[K     |██████████████████████████████  | 51kB 7.0MB/s eta 0:00:01\r\u001b[K     |████████████████████████████████| 61kB 4.6MB/s \n",
            "\u001b[?25hRequirement already satisfied, skipping upgrade: future in /usr/local/lib/python3.6/dist-packages (from keras-tuner) (0.16.0)\n",
            "Requirement already satisfied, skipping upgrade: numpy in /usr/local/lib/python3.6/dist-packages (from keras-tuner) (1.18.5)\n",
            "Requirement already satisfied, skipping upgrade: tabulate in /usr/local/lib/python3.6/dist-packages (from keras-tuner) (0.8.7)\n",
            "Collecting terminaltables\n",
            "  Downloading https://files.pythonhosted.org/packages/9b/c4/4a21174f32f8a7e1104798c445dacdc1d4df86f2f26722767034e4de4bff/terminaltables-3.1.0.tar.gz\n",
            "Collecting colorama\n",
            "  Downloading https://files.pythonhosted.org/packages/c9/dc/45cdef1b4d119eb96316b3117e6d5708a08029992b2fee2c143c7a0a5cc5/colorama-0.4.3-py2.py3-none-any.whl\n",
            "Requirement already satisfied, skipping upgrade: tqdm in /usr/local/lib/python3.6/dist-packages (from keras-tuner) (4.41.1)\n",
            "Requirement already satisfied, skipping upgrade: requests in /usr/local/lib/python3.6/dist-packages (from keras-tuner) (2.23.0)\n",
            "Requirement already satisfied, skipping upgrade: scipy in /usr/local/lib/python3.6/dist-packages (from keras-tuner) (1.4.1)\n",
            "Requirement already satisfied, skipping upgrade: scikit-learn in /usr/local/lib/python3.6/dist-packages (from keras-tuner) (0.22.2.post1)\n",
            "Requirement already satisfied, skipping upgrade: chardet<4,>=3.0.2 in /usr/local/lib/python3.6/dist-packages (from requests->keras-tuner) (3.0.4)\n",
            "Requirement already satisfied, skipping upgrade: certifi>=2017.4.17 in /usr/local/lib/python3.6/dist-packages (from requests->keras-tuner) (2020.6.20)\n",
            "Requirement already satisfied, skipping upgrade: urllib3!=1.25.0,!=1.25.1,<1.26,>=1.21.1 in /usr/local/lib/python3.6/dist-packages (from requests->keras-tuner) (1.24.3)\n",
            "Requirement already satisfied, skipping upgrade: idna<3,>=2.5 in /usr/local/lib/python3.6/dist-packages (from requests->keras-tuner) (2.9)\n",
            "Requirement already satisfied, skipping upgrade: joblib>=0.11 in /usr/local/lib/python3.6/dist-packages (from scikit-learn->keras-tuner) (0.15.1)\n",
            "Building wheels for collected packages: keras-tuner, terminaltables\n",
            "  Building wheel for keras-tuner (setup.py) ... \u001b[?25l\u001b[?25hdone\n",
            "  Created wheel for keras-tuner: filename=keras_tuner-1.0.1-cp36-none-any.whl size=73200 sha256=74dbea8a1aa3eef224af25dd967e4da21700098c8bbd7fdad6e36e60c80fb439\n",
            "  Stored in directory: /root/.cache/pip/wheels/b9/cc/62/52716b70dd90f3db12519233c3a93a5360bc672da1a10ded43\n",
            "  Building wheel for terminaltables (setup.py) ... \u001b[?25l\u001b[?25hdone\n",
            "  Created wheel for terminaltables: filename=terminaltables-3.1.0-cp36-none-any.whl size=15356 sha256=b8aec9279a3f603fe47e9cb61a43e5d3db89cfe807fd09907cc13c765d29cadf\n",
            "  Stored in directory: /root/.cache/pip/wheels/30/6b/50/6c75775b681fb36cdfac7f19799888ef9d8813aff9e379663e\n",
            "Successfully built keras-tuner terminaltables\n",
            "Installing collected packages: terminaltables, colorama, keras-tuner\n",
            "Successfully installed colorama-0.4.3 keras-tuner-1.0.1 terminaltables-3.1.0\n"
          ],
          "name": "stdout"
        }
      ]
    },
    {
      "cell_type": "code",
      "metadata": {
        "id": "FIbeWTc9mJGH"
      },
      "source": [
        "def create_model(hp):\n",
        "    dropout1 = hp.Choice('dropout', values=[0.34, 0.35, 0.42, 0.44, 0.5, 0.79])\n",
        "    activation1 = hp.Choice('activation', values=['tanh', 'softmax', 'sigmoid', 'relu','elu', 'hard_sigmoid', 'selu'])\n",
        "\n",
        " \n",
        "\n",
        "    def get_optimizer(optimizer, lr):\n",
        "        if optimizer == 'adam':\n",
        "            return tensorflow.keras.optimizers.Adam(learning_rate=lr)\n",
        "        elif optimizer == 'rmsprop':\n",
        "            return tensorflow.keras.optimizers.RMSprop(learning_rate=lr)\n",
        "        elif optimizer == 'sgd':\n",
        "            return tensorflow.keras.optimizers.SGD(learning_rate=lr)\n",
        "\n",
        " \n",
        "\n",
        "    lr = hp.Choice('lr', values=[0.0011, 0.0331, 0.0464, 0.0654, 0.0926, 1e-4])\n",
        "    optimizer = hp.Choice('optimizer', values=['adam', 'rmsprop', 'sgd'])\n",
        "\n",
        " \n",
        "\n",
        "    optimizer = get_optimizer(optimizer, lr)\n",
        "\n",
        " \n",
        "    # Carichiamo il modello MobileNetV2, \n",
        "    # assicurandoci di non includere gli strati Fully Connected per ora.\n",
        "    baseModel = MobileNetV2(weights=\"imagenet\", include_top=False,\n",
        "        input_tensor=Input(shape=(224, 224, 3)))\n",
        "\n",
        "    # Costruiamo la 'Head' del modello, che sarà posizionata sopra il Base Model\n",
        "    headModel = baseModel.output\n",
        "    headModel = AveragePooling2D(pool_size=(7, 7))(headModel)\n",
        "    headModel = Flatten(name=\"flatten\")(headModel)\n",
        "    headModel = Dense(128, activation=\"relu\")(headModel)\n",
        "    headModel = Dropout(0.5)(headModel)\n",
        "    headModel = Dense(2, activation=\"softmax\")(headModel) \n",
        "                            \n",
        "    # Posizioniamo la 'Head' del modello (che contiene i nostri strati Fully Connected) sopra il Base Model\n",
        "    model = Model(inputs=baseModel.input, outputs=headModel)\n",
        "\n",
        "    # Iteriamo sopra tutti gli strati del Base Model. COntestualmente applichiamo un Freeze, in modo che i relativi parametri \n",
        "    # non vengano aggiornati durante il primo processo di training\n",
        "    for layer in baseModel.layers:\n",
        "        layer.trainable = False\n",
        "\n",
        " \n",
        "\n",
        "\n",
        "    model.compile(loss=\"binary_crossentropy\", optimizer=opt, metrics=[\"accuracy\"])\n",
        "    \n",
        "    return model"
      ],
      "execution_count": null,
      "outputs": []
    },
    {
      "cell_type": "code",
      "metadata": {
        "id": "ZUs5Gu9rmJKW",
        "colab": {
          "base_uri": "https://localhost:8080/",
          "height": 88
        },
        "outputId": "83bb4538-7167-4969-fd99-ca7ce0f46f03"
      },
      "source": [
        "#tuner = RandomSearch(create_model, executions_per_trial=2, objective=kerastuner.Objective(\"loss\", direction=\"min\"),\n",
        "#                     max_trials = 10, \n",
        "#                     project_name='MobileNetV2_RandomSearch',\n",
        "#                     directory='/content/drive/My Drive/Ds_lab/MobileNetV2_RandomSearch',\n",
        "#                     seed = 795)\n",
        "\n",
        "#tuner = kerastuner.tuners.bayesian.BayesianOptimization(create_model, \n",
        "#                                                        objective = kerastuner.Objective(\"loss\", direction = \"min\"),\n",
        "#                                                        executions_per_trial = 2, \n",
        "#                                                        max_trials = 10, \n",
        "#                                                        num_initial_points = 10, \n",
        "#                                                        seed=123,\n",
        "#                                                        directory = '/content/drive/My Drive/Ds_lab/MobileNet_Bayesian',\n",
        "#                                                        project_name='MobileNetV2_Bayesian') \n",
        "\n",
        "tuner = kerastuner.tuners.hyperband.Hyperband(create_model,\n",
        "                                              \n",
        "                                              objective = kerastuner.Objective(\"loss\", direction = \"min\"), \n",
        "                                              max_epochs = 15,\n",
        "                                              hyperband_iterations = 5, \n",
        "                                              factor = 3,\n",
        "                                              directory = '/content/drive/My Drive/Ds_lab/MobileNet_HyperbandTune',\n",
        "                                              project_name = 'MobileNet_HyperbandTune',\n",
        "                                              seed = 355)                       "
      ],
      "execution_count": null,
      "outputs": [
        {
          "output_type": "stream",
          "text": [
            "INFO:tensorflow:Reloading Oracle from existing project /content/drive/My Drive/Ds_lab/MobileNet_HyperbandTune/MobileNet_HyperbandTune/oracle.json\n",
            "WARNING:tensorflow:`input_shape` is undefined or non-square, or `rows` is not in [96, 128, 160, 192, 224]. Weights for input shape (224, 224) will be loaded as the default.\n",
            "INFO:tensorflow:Reloading Tuner from /content/drive/My Drive/Ds_lab/MobileNet_HyperbandTune/MobileNet_HyperbandTune/tuner0.json\n"
          ],
          "name": "stdout"
        }
      ]
    },
    {
      "cell_type": "code",
      "metadata": {
        "id": "ctJ8p2uomJNs",
        "colab": {
          "base_uri": "https://localhost:8080/",
          "height": 421
        },
        "outputId": "76742243-f5ec-4c3f-9496-b28969fa1cb0"
      },
      "source": [
        "search_space = tuner.search_space_summary()\n",
        "search_space"
      ],
      "execution_count": null,
      "outputs": [
        {
          "output_type": "display_data",
          "data": {
            "text/html": [
              "<span style=\"color:#4527A0\"><h1 style=\"font-size:18px\">Search space summary</h1></span>"
            ],
            "text/plain": [
              "<IPython.core.display.HTML object>"
            ]
          },
          "metadata": {
            "tags": []
          }
        },
        {
          "output_type": "display_data",
          "data": {
            "text/html": [
              "<span style=\"color:cyan\"> |-Default search space size: 4</span>"
            ],
            "text/plain": [
              "<IPython.core.display.HTML object>"
            ]
          },
          "metadata": {
            "tags": []
          }
        },
        {
          "output_type": "display_data",
          "data": {
            "text/html": [
              "<span style=\"color:#7E57C2\"><h2 style=\"font-size:16px\">dropout (Choice)</h2></span>"
            ],
            "text/plain": [
              "<IPython.core.display.HTML object>"
            ]
          },
          "metadata": {
            "tags": []
          }
        },
        {
          "output_type": "display_data",
          "data": {
            "text/html": [
              "<span style=\"color:cyan\"> |-default: 0.34</span>"
            ],
            "text/plain": [
              "<IPython.core.display.HTML object>"
            ]
          },
          "metadata": {
            "tags": []
          }
        },
        {
          "output_type": "display_data",
          "data": {
            "text/html": [
              "<span style=\"color:blue\"> |-ordered: True</span>"
            ],
            "text/plain": [
              "<IPython.core.display.HTML object>"
            ]
          },
          "metadata": {
            "tags": []
          }
        },
        {
          "output_type": "display_data",
          "data": {
            "text/html": [
              "<span style=\"color:cyan\"> |-values: [0.34, 0.35, 0.42, 0.44, 0.5, 0.79]</span>"
            ],
            "text/plain": [
              "<IPython.core.display.HTML object>"
            ]
          },
          "metadata": {
            "tags": []
          }
        },
        {
          "output_type": "display_data",
          "data": {
            "text/html": [
              "<span style=\"color:#7E57C2\"><h2 style=\"font-size:16px\">activation (Choice)</h2></span>"
            ],
            "text/plain": [
              "<IPython.core.display.HTML object>"
            ]
          },
          "metadata": {
            "tags": []
          }
        },
        {
          "output_type": "display_data",
          "data": {
            "text/html": [
              "<span style=\"color:cyan\"> |-default: tanh</span>"
            ],
            "text/plain": [
              "<IPython.core.display.HTML object>"
            ]
          },
          "metadata": {
            "tags": []
          }
        },
        {
          "output_type": "display_data",
          "data": {
            "text/html": [
              "<span style=\"color:blue\"> |-ordered: False</span>"
            ],
            "text/plain": [
              "<IPython.core.display.HTML object>"
            ]
          },
          "metadata": {
            "tags": []
          }
        },
        {
          "output_type": "display_data",
          "data": {
            "text/html": [
              "<span style=\"color:cyan\"> |-values: ['tanh', 'softmax', 'sigmoid', 'relu', 'elu', 'hard_sigmoid', 'selu']</span>"
            ],
            "text/plain": [
              "<IPython.core.display.HTML object>"
            ]
          },
          "metadata": {
            "tags": []
          }
        },
        {
          "output_type": "display_data",
          "data": {
            "text/html": [
              "<span style=\"color:#7E57C2\"><h2 style=\"font-size:16px\">lr (Choice)</h2></span>"
            ],
            "text/plain": [
              "<IPython.core.display.HTML object>"
            ]
          },
          "metadata": {
            "tags": []
          }
        },
        {
          "output_type": "display_data",
          "data": {
            "text/html": [
              "<span style=\"color:cyan\"> |-default: 0.0011</span>"
            ],
            "text/plain": [
              "<IPython.core.display.HTML object>"
            ]
          },
          "metadata": {
            "tags": []
          }
        },
        {
          "output_type": "display_data",
          "data": {
            "text/html": [
              "<span style=\"color:blue\"> |-ordered: True</span>"
            ],
            "text/plain": [
              "<IPython.core.display.HTML object>"
            ]
          },
          "metadata": {
            "tags": []
          }
        },
        {
          "output_type": "display_data",
          "data": {
            "text/html": [
              "<span style=\"color:cyan\"> |-values: [0.0011, 0.0331, 0.0464, 0.0654, 0.0926, 0.0001]</span>"
            ],
            "text/plain": [
              "<IPython.core.display.HTML object>"
            ]
          },
          "metadata": {
            "tags": []
          }
        },
        {
          "output_type": "display_data",
          "data": {
            "text/html": [
              "<span style=\"color:#7E57C2\"><h2 style=\"font-size:16px\">optimizer (Choice)</h2></span>"
            ],
            "text/plain": [
              "<IPython.core.display.HTML object>"
            ]
          },
          "metadata": {
            "tags": []
          }
        },
        {
          "output_type": "display_data",
          "data": {
            "text/html": [
              "<span style=\"color:cyan\"> |-default: adam</span>"
            ],
            "text/plain": [
              "<IPython.core.display.HTML object>"
            ]
          },
          "metadata": {
            "tags": []
          }
        },
        {
          "output_type": "display_data",
          "data": {
            "text/html": [
              "<span style=\"color:blue\"> |-ordered: False</span>"
            ],
            "text/plain": [
              "<IPython.core.display.HTML object>"
            ]
          },
          "metadata": {
            "tags": []
          }
        },
        {
          "output_type": "display_data",
          "data": {
            "text/html": [
              "<span style=\"color:cyan\"> |-values: ['adam', 'rmsprop', 'sgd']</span>"
            ],
            "text/plain": [
              "<IPython.core.display.HTML object>"
            ]
          },
          "metadata": {
            "tags": []
          }
        }
      ]
    },
    {
      "cell_type": "code",
      "metadata": {
        "id": "0LBVlimImJP2",
        "colab": {
          "base_uri": "https://localhost:8080/",
          "height": 1000
        },
        "outputId": "19a6abd9-c6b0-42c4-acdb-45368c744bd6"
      },
      "source": [
        "tuner.search(x=trainX, y=trainY, epochs = 12, batch_size = 128,\n",
        "             callbacks=[tensorflow.keras.callbacks.EarlyStopping('val_loss', patience=3)], \n",
        "             validation_data=(testX, testY))\n"
      ],
      "execution_count": null,
      "outputs": [
        {
          "output_type": "stream",
          "text": [
            "WARNING:tensorflow:`input_shape` is undefined or non-square, or `rows` is not in [96, 128, 160, 192, 224]. Weights for input shape (224, 224) will be loaded as the default.\n",
            "Epoch 1/2\n",
            "45/45 [==============================] - 10s 216ms/step - loss: 0.1394 - accuracy: 0.9448 - val_loss: 0.0268 - val_accuracy: 0.9915\n",
            "Epoch 2/2\n",
            "45/45 [==============================] - 9s 200ms/step - loss: 0.0251 - accuracy: 0.9924 - val_loss: 0.0231 - val_accuracy: 0.9929\n"
          ],
          "name": "stdout"
        },
        {
          "output_type": "display_data",
          "data": {
            "text/html": [
              "<span style=\"color:#4527A0\"><h1 style=\"font-size:18px\">Trial complete</h1></span>"
            ],
            "text/plain": [
              "<IPython.core.display.HTML object>"
            ]
          },
          "metadata": {
            "tags": []
          }
        },
        {
          "output_type": "display_data",
          "data": {
            "text/html": [
              "<span style=\"color:#4527A0\"><h1 style=\"font-size:18px\">Trial summary</h1></span>"
            ],
            "text/plain": [
              "<IPython.core.display.HTML object>"
            ]
          },
          "metadata": {
            "tags": []
          }
        },
        {
          "output_type": "display_data",
          "data": {
            "text/html": [
              "<span style=\"color:cyan\"> |-Trial ID: 8235cd026d68d14e347028902c841a05</span>"
            ],
            "text/plain": [
              "<IPython.core.display.HTML object>"
            ]
          },
          "metadata": {
            "tags": []
          }
        },
        {
          "output_type": "display_data",
          "data": {
            "text/html": [
              "<span style=\"color:cyan\"> |-Score: 0.02507326379418373</span>"
            ],
            "text/plain": [
              "<IPython.core.display.HTML object>"
            ]
          },
          "metadata": {
            "tags": []
          }
        },
        {
          "output_type": "display_data",
          "data": {
            "text/html": [
              "<span style=\"color:cyan\"> |-Best step: 0</span>"
            ],
            "text/plain": [
              "<IPython.core.display.HTML object>"
            ]
          },
          "metadata": {
            "tags": []
          }
        },
        {
          "output_type": "display_data",
          "data": {
            "text/html": [
              "<span style=\"color:#7E57C2\"><h2 style=\"font-size:16px\">Hyperparameters:</h2></span>"
            ],
            "text/plain": [
              "<IPython.core.display.HTML object>"
            ]
          },
          "metadata": {
            "tags": []
          }
        },
        {
          "output_type": "display_data",
          "data": {
            "text/html": [
              "<span style=\"color:cyan\"> |-activation: elu</span>"
            ],
            "text/plain": [
              "<IPython.core.display.HTML object>"
            ]
          },
          "metadata": {
            "tags": []
          }
        },
        {
          "output_type": "display_data",
          "data": {
            "text/html": [
              "<span style=\"color:blue\"> |-dropout: 0.44</span>"
            ],
            "text/plain": [
              "<IPython.core.display.HTML object>"
            ]
          },
          "metadata": {
            "tags": []
          }
        },
        {
          "output_type": "display_data",
          "data": {
            "text/html": [
              "<span style=\"color:cyan\"> |-lr: 0.0464</span>"
            ],
            "text/plain": [
              "<IPython.core.display.HTML object>"
            ]
          },
          "metadata": {
            "tags": []
          }
        },
        {
          "output_type": "display_data",
          "data": {
            "text/html": [
              "<span style=\"color:blue\"> |-optimizer: adam</span>"
            ],
            "text/plain": [
              "<IPython.core.display.HTML object>"
            ]
          },
          "metadata": {
            "tags": []
          }
        },
        {
          "output_type": "display_data",
          "data": {
            "text/html": [
              "<span style=\"color:cyan\"> |-tuner/bracket: 2</span>"
            ],
            "text/plain": [
              "<IPython.core.display.HTML object>"
            ]
          },
          "metadata": {
            "tags": []
          }
        },
        {
          "output_type": "display_data",
          "data": {
            "text/html": [
              "<span style=\"color:blue\"> |-tuner/epochs: 2</span>"
            ],
            "text/plain": [
              "<IPython.core.display.HTML object>"
            ]
          },
          "metadata": {
            "tags": []
          }
        },
        {
          "output_type": "display_data",
          "data": {
            "text/html": [
              "<span style=\"color:cyan\"> |-tuner/initial_epoch: 0</span>"
            ],
            "text/plain": [
              "<IPython.core.display.HTML object>"
            ]
          },
          "metadata": {
            "tags": []
          }
        },
        {
          "output_type": "display_data",
          "data": {
            "text/html": [
              "<span style=\"color:blue\"> |-tuner/round: 0</span>"
            ],
            "text/plain": [
              "<IPython.core.display.HTML object>"
            ]
          },
          "metadata": {
            "tags": []
          }
        },
        {
          "output_type": "stream",
          "text": [
            "WARNING:tensorflow:`input_shape` is undefined or non-square, or `rows` is not in [96, 128, 160, 192, 224]. Weights for input shape (224, 224) will be loaded as the default.\n",
            "Epoch 1/2\n",
            "45/45 [==============================] - 10s 215ms/step - loss: 0.1304 - accuracy: 0.9445 - val_loss: 0.0306 - val_accuracy: 0.9894\n",
            "Epoch 2/2\n",
            "45/45 [==============================] - 9s 200ms/step - loss: 0.0220 - accuracy: 0.9924 - val_loss: 0.0300 - val_accuracy: 0.9901\n"
          ],
          "name": "stdout"
        },
        {
          "output_type": "display_data",
          "data": {
            "text/html": [
              "<span style=\"color:#4527A0\"><h1 style=\"font-size:18px\">Trial complete</h1></span>"
            ],
            "text/plain": [
              "<IPython.core.display.HTML object>"
            ]
          },
          "metadata": {
            "tags": []
          }
        },
        {
          "output_type": "display_data",
          "data": {
            "text/html": [
              "<span style=\"color:#4527A0\"><h1 style=\"font-size:18px\">Trial summary</h1></span>"
            ],
            "text/plain": [
              "<IPython.core.display.HTML object>"
            ]
          },
          "metadata": {
            "tags": []
          }
        },
        {
          "output_type": "display_data",
          "data": {
            "text/html": [
              "<span style=\"color:cyan\"> |-Trial ID: de391284a26c63675bdfdb7c4ef97f7f</span>"
            ],
            "text/plain": [
              "<IPython.core.display.HTML object>"
            ]
          },
          "metadata": {
            "tags": []
          }
        },
        {
          "output_type": "display_data",
          "data": {
            "text/html": [
              "<span style=\"color:cyan\"> |-Score: 0.021960917860269547</span>"
            ],
            "text/plain": [
              "<IPython.core.display.HTML object>"
            ]
          },
          "metadata": {
            "tags": []
          }
        },
        {
          "output_type": "display_data",
          "data": {
            "text/html": [
              "<span style=\"color:cyan\"> |-Best step: 0</span>"
            ],
            "text/plain": [
              "<IPython.core.display.HTML object>"
            ]
          },
          "metadata": {
            "tags": []
          }
        },
        {
          "output_type": "display_data",
          "data": {
            "text/html": [
              "<span style=\"color:#7E57C2\"><h2 style=\"font-size:16px\">Hyperparameters:</h2></span>"
            ],
            "text/plain": [
              "<IPython.core.display.HTML object>"
            ]
          },
          "metadata": {
            "tags": []
          }
        },
        {
          "output_type": "display_data",
          "data": {
            "text/html": [
              "<span style=\"color:cyan\"> |-activation: sigmoid</span>"
            ],
            "text/plain": [
              "<IPython.core.display.HTML object>"
            ]
          },
          "metadata": {
            "tags": []
          }
        },
        {
          "output_type": "display_data",
          "data": {
            "text/html": [
              "<span style=\"color:blue\"> |-dropout: 0.34</span>"
            ],
            "text/plain": [
              "<IPython.core.display.HTML object>"
            ]
          },
          "metadata": {
            "tags": []
          }
        },
        {
          "output_type": "display_data",
          "data": {
            "text/html": [
              "<span style=\"color:cyan\"> |-lr: 0.0654</span>"
            ],
            "text/plain": [
              "<IPython.core.display.HTML object>"
            ]
          },
          "metadata": {
            "tags": []
          }
        },
        {
          "output_type": "display_data",
          "data": {
            "text/html": [
              "<span style=\"color:blue\"> |-optimizer: rmsprop</span>"
            ],
            "text/plain": [
              "<IPython.core.display.HTML object>"
            ]
          },
          "metadata": {
            "tags": []
          }
        },
        {
          "output_type": "display_data",
          "data": {
            "text/html": [
              "<span style=\"color:cyan\"> |-tuner/bracket: 2</span>"
            ],
            "text/plain": [
              "<IPython.core.display.HTML object>"
            ]
          },
          "metadata": {
            "tags": []
          }
        },
        {
          "output_type": "display_data",
          "data": {
            "text/html": [
              "<span style=\"color:blue\"> |-tuner/epochs: 2</span>"
            ],
            "text/plain": [
              "<IPython.core.display.HTML object>"
            ]
          },
          "metadata": {
            "tags": []
          }
        },
        {
          "output_type": "display_data",
          "data": {
            "text/html": [
              "<span style=\"color:cyan\"> |-tuner/initial_epoch: 0</span>"
            ],
            "text/plain": [
              "<IPython.core.display.HTML object>"
            ]
          },
          "metadata": {
            "tags": []
          }
        },
        {
          "output_type": "display_data",
          "data": {
            "text/html": [
              "<span style=\"color:blue\"> |-tuner/round: 0</span>"
            ],
            "text/plain": [
              "<IPython.core.display.HTML object>"
            ]
          },
          "metadata": {
            "tags": []
          }
        },
        {
          "output_type": "stream",
          "text": [
            "WARNING:tensorflow:`input_shape` is undefined or non-square, or `rows` is not in [96, 128, 160, 192, 224]. Weights for input shape (224, 224) will be loaded as the default.\n",
            "Epoch 1/2\n",
            "45/45 [==============================] - 10s 219ms/step - loss: 0.1874 - accuracy: 0.9284 - val_loss: 0.0315 - val_accuracy: 0.9880\n",
            "Epoch 2/2\n",
            "45/45 [==============================] - 9s 198ms/step - loss: 0.0282 - accuracy: 0.9915 - val_loss: 0.0249 - val_accuracy: 0.9901\n"
          ],
          "name": "stdout"
        },
        {
          "output_type": "display_data",
          "data": {
            "text/html": [
              "<span style=\"color:#4527A0\"><h1 style=\"font-size:18px\">Trial complete</h1></span>"
            ],
            "text/plain": [
              "<IPython.core.display.HTML object>"
            ]
          },
          "metadata": {
            "tags": []
          }
        },
        {
          "output_type": "display_data",
          "data": {
            "text/html": [
              "<span style=\"color:#4527A0\"><h1 style=\"font-size:18px\">Trial summary</h1></span>"
            ],
            "text/plain": [
              "<IPython.core.display.HTML object>"
            ]
          },
          "metadata": {
            "tags": []
          }
        },
        {
          "output_type": "display_data",
          "data": {
            "text/html": [
              "<span style=\"color:cyan\"> |-Trial ID: 2d8c438ca629a6e3ffca13a1465bd073</span>"
            ],
            "text/plain": [
              "<IPython.core.display.HTML object>"
            ]
          },
          "metadata": {
            "tags": []
          }
        },
        {
          "output_type": "display_data",
          "data": {
            "text/html": [
              "<span style=\"color:cyan\"> |-Score: 0.02822631597518921</span>"
            ],
            "text/plain": [
              "<IPython.core.display.HTML object>"
            ]
          },
          "metadata": {
            "tags": []
          }
        },
        {
          "output_type": "display_data",
          "data": {
            "text/html": [
              "<span style=\"color:cyan\"> |-Best step: 0</span>"
            ],
            "text/plain": [
              "<IPython.core.display.HTML object>"
            ]
          },
          "metadata": {
            "tags": []
          }
        },
        {
          "output_type": "display_data",
          "data": {
            "text/html": [
              "<span style=\"color:#7E57C2\"><h2 style=\"font-size:16px\">Hyperparameters:</h2></span>"
            ],
            "text/plain": [
              "<IPython.core.display.HTML object>"
            ]
          },
          "metadata": {
            "tags": []
          }
        },
        {
          "output_type": "display_data",
          "data": {
            "text/html": [
              "<span style=\"color:cyan\"> |-activation: tanh</span>"
            ],
            "text/plain": [
              "<IPython.core.display.HTML object>"
            ]
          },
          "metadata": {
            "tags": []
          }
        },
        {
          "output_type": "display_data",
          "data": {
            "text/html": [
              "<span style=\"color:blue\"> |-dropout: 0.35</span>"
            ],
            "text/plain": [
              "<IPython.core.display.HTML object>"
            ]
          },
          "metadata": {
            "tags": []
          }
        },
        {
          "output_type": "display_data",
          "data": {
            "text/html": [
              "<span style=\"color:cyan\"> |-lr: 0.0011</span>"
            ],
            "text/plain": [
              "<IPython.core.display.HTML object>"
            ]
          },
          "metadata": {
            "tags": []
          }
        },
        {
          "output_type": "display_data",
          "data": {
            "text/html": [
              "<span style=\"color:blue\"> |-optimizer: rmsprop</span>"
            ],
            "text/plain": [
              "<IPython.core.display.HTML object>"
            ]
          },
          "metadata": {
            "tags": []
          }
        },
        {
          "output_type": "display_data",
          "data": {
            "text/html": [
              "<span style=\"color:cyan\"> |-tuner/bracket: 2</span>"
            ],
            "text/plain": [
              "<IPython.core.display.HTML object>"
            ]
          },
          "metadata": {
            "tags": []
          }
        },
        {
          "output_type": "display_data",
          "data": {
            "text/html": [
              "<span style=\"color:blue\"> |-tuner/epochs: 2</span>"
            ],
            "text/plain": [
              "<IPython.core.display.HTML object>"
            ]
          },
          "metadata": {
            "tags": []
          }
        },
        {
          "output_type": "display_data",
          "data": {
            "text/html": [
              "<span style=\"color:cyan\"> |-tuner/initial_epoch: 0</span>"
            ],
            "text/plain": [
              "<IPython.core.display.HTML object>"
            ]
          },
          "metadata": {
            "tags": []
          }
        },
        {
          "output_type": "display_data",
          "data": {
            "text/html": [
              "<span style=\"color:blue\"> |-tuner/round: 0</span>"
            ],
            "text/plain": [
              "<IPython.core.display.HTML object>"
            ]
          },
          "metadata": {
            "tags": []
          }
        },
        {
          "output_type": "stream",
          "text": [
            "WARNING:tensorflow:`input_shape` is undefined or non-square, or `rows` is not in [96, 128, 160, 192, 224]. Weights for input shape (224, 224) will be loaded as the default.\n",
            "Epoch 3/4\n",
            "45/45 [==============================] - 10s 214ms/step - loss: 0.1783 - accuracy: 0.9298 - val_loss: 0.0274 - val_accuracy: 0.9894\n",
            "Epoch 4/4\n",
            "45/45 [==============================] - 9s 200ms/step - loss: 0.0251 - accuracy: 0.9933 - val_loss: 0.0231 - val_accuracy: 0.9922\n"
          ],
          "name": "stdout"
        },
        {
          "output_type": "display_data",
          "data": {
            "text/html": [
              "<span style=\"color:#4527A0\"><h1 style=\"font-size:18px\">Trial complete</h1></span>"
            ],
            "text/plain": [
              "<IPython.core.display.HTML object>"
            ]
          },
          "metadata": {
            "tags": []
          }
        },
        {
          "output_type": "display_data",
          "data": {
            "text/html": [
              "<span style=\"color:#4527A0\"><h1 style=\"font-size:18px\">Trial summary</h1></span>"
            ],
            "text/plain": [
              "<IPython.core.display.HTML object>"
            ]
          },
          "metadata": {
            "tags": []
          }
        },
        {
          "output_type": "display_data",
          "data": {
            "text/html": [
              "<span style=\"color:cyan\"> |-Trial ID: 00e755ccce532cebd7b7640df8d6d2e4</span>"
            ],
            "text/plain": [
              "<IPython.core.display.HTML object>"
            ]
          },
          "metadata": {
            "tags": []
          }
        },
        {
          "output_type": "display_data",
          "data": {
            "text/html": [
              "<span style=\"color:cyan\"> |-Score: 0.025135772302746773</span>"
            ],
            "text/plain": [
              "<IPython.core.display.HTML object>"
            ]
          },
          "metadata": {
            "tags": []
          }
        },
        {
          "output_type": "display_data",
          "data": {
            "text/html": [
              "<span style=\"color:cyan\"> |-Best step: 0</span>"
            ],
            "text/plain": [
              "<IPython.core.display.HTML object>"
            ]
          },
          "metadata": {
            "tags": []
          }
        },
        {
          "output_type": "display_data",
          "data": {
            "text/html": [
              "<span style=\"color:#7E57C2\"><h2 style=\"font-size:16px\">Hyperparameters:</h2></span>"
            ],
            "text/plain": [
              "<IPython.core.display.HTML object>"
            ]
          },
          "metadata": {
            "tags": []
          }
        },
        {
          "output_type": "display_data",
          "data": {
            "text/html": [
              "<span style=\"color:cyan\"> |-activation: tanh</span>"
            ],
            "text/plain": [
              "<IPython.core.display.HTML object>"
            ]
          },
          "metadata": {
            "tags": []
          }
        },
        {
          "output_type": "display_data",
          "data": {
            "text/html": [
              "<span style=\"color:blue\"> |-dropout: 0.42</span>"
            ],
            "text/plain": [
              "<IPython.core.display.HTML object>"
            ]
          },
          "metadata": {
            "tags": []
          }
        },
        {
          "output_type": "display_data",
          "data": {
            "text/html": [
              "<span style=\"color:cyan\"> |-lr: 0.0011</span>"
            ],
            "text/plain": [
              "<IPython.core.display.HTML object>"
            ]
          },
          "metadata": {
            "tags": []
          }
        },
        {
          "output_type": "display_data",
          "data": {
            "text/html": [
              "<span style=\"color:blue\"> |-optimizer: rmsprop</span>"
            ],
            "text/plain": [
              "<IPython.core.display.HTML object>"
            ]
          },
          "metadata": {
            "tags": []
          }
        },
        {
          "output_type": "display_data",
          "data": {
            "text/html": [
              "<span style=\"color:cyan\"> |-tuner/bracket: 2</span>"
            ],
            "text/plain": [
              "<IPython.core.display.HTML object>"
            ]
          },
          "metadata": {
            "tags": []
          }
        },
        {
          "output_type": "display_data",
          "data": {
            "text/html": [
              "<span style=\"color:blue\"> |-tuner/epochs: 4</span>"
            ],
            "text/plain": [
              "<IPython.core.display.HTML object>"
            ]
          },
          "metadata": {
            "tags": []
          }
        },
        {
          "output_type": "display_data",
          "data": {
            "text/html": [
              "<span style=\"color:cyan\"> |-tuner/initial_epoch: 2</span>"
            ],
            "text/plain": [
              "<IPython.core.display.HTML object>"
            ]
          },
          "metadata": {
            "tags": []
          }
        },
        {
          "output_type": "display_data",
          "data": {
            "text/html": [
              "<span style=\"color:blue\"> |-tuner/round: 1</span>"
            ],
            "text/plain": [
              "<IPython.core.display.HTML object>"
            ]
          },
          "metadata": {
            "tags": []
          }
        },
        {
          "output_type": "display_data",
          "data": {
            "text/html": [
              "<span style=\"color:cyan\"> |-tuner/trial_id: b9d9c42b55d1257a00916a0be64280e1</span>"
            ],
            "text/plain": [
              "<IPython.core.display.HTML object>"
            ]
          },
          "metadata": {
            "tags": []
          }
        },
        {
          "output_type": "stream",
          "text": [
            "WARNING:tensorflow:`input_shape` is undefined or non-square, or `rows` is not in [96, 128, 160, 192, 224]. Weights for input shape (224, 224) will be loaded as the default.\n",
            "Epoch 3/4\n",
            "45/45 [==============================] - 10s 214ms/step - loss: 0.1163 - accuracy: 0.9491 - val_loss: 0.0249 - val_accuracy: 0.9908\n",
            "Epoch 4/4\n",
            "45/45 [==============================] - 9s 199ms/step - loss: 0.0214 - accuracy: 0.9929 - val_loss: 0.0194 - val_accuracy: 0.9936\n"
          ],
          "name": "stdout"
        },
        {
          "output_type": "display_data",
          "data": {
            "text/html": [
              "<span style=\"color:#4527A0\"><h1 style=\"font-size:18px\">Trial complete</h1></span>"
            ],
            "text/plain": [
              "<IPython.core.display.HTML object>"
            ]
          },
          "metadata": {
            "tags": []
          }
        },
        {
          "output_type": "display_data",
          "data": {
            "text/html": [
              "<span style=\"color:#4527A0\"><h1 style=\"font-size:18px\">Trial summary</h1></span>"
            ],
            "text/plain": [
              "<IPython.core.display.HTML object>"
            ]
          },
          "metadata": {
            "tags": []
          }
        },
        {
          "output_type": "display_data",
          "data": {
            "text/html": [
              "<span style=\"color:cyan\"> |-Trial ID: b60caf42419aefedf168acd568ceaae9</span>"
            ],
            "text/plain": [
              "<IPython.core.display.HTML object>"
            ]
          },
          "metadata": {
            "tags": []
          }
        },
        {
          "output_type": "display_data",
          "data": {
            "text/html": [
              "<span style=\"color:cyan\"> |-Score: 0.02142825536429882</span>"
            ],
            "text/plain": [
              "<IPython.core.display.HTML object>"
            ]
          },
          "metadata": {
            "tags": []
          }
        },
        {
          "output_type": "display_data",
          "data": {
            "text/html": [
              "<span style=\"color:cyan\"> |-Best step: 0</span>"
            ],
            "text/plain": [
              "<IPython.core.display.HTML object>"
            ]
          },
          "metadata": {
            "tags": []
          }
        },
        {
          "output_type": "display_data",
          "data": {
            "text/html": [
              "<span style=\"color:#7E57C2\"><h2 style=\"font-size:16px\">Hyperparameters:</h2></span>"
            ],
            "text/plain": [
              "<IPython.core.display.HTML object>"
            ]
          },
          "metadata": {
            "tags": []
          }
        },
        {
          "output_type": "display_data",
          "data": {
            "text/html": [
              "<span style=\"color:cyan\"> |-activation: sigmoid</span>"
            ],
            "text/plain": [
              "<IPython.core.display.HTML object>"
            ]
          },
          "metadata": {
            "tags": []
          }
        },
        {
          "output_type": "display_data",
          "data": {
            "text/html": [
              "<span style=\"color:blue\"> |-dropout: 0.34</span>"
            ],
            "text/plain": [
              "<IPython.core.display.HTML object>"
            ]
          },
          "metadata": {
            "tags": []
          }
        },
        {
          "output_type": "display_data",
          "data": {
            "text/html": [
              "<span style=\"color:cyan\"> |-lr: 0.0654</span>"
            ],
            "text/plain": [
              "<IPython.core.display.HTML object>"
            ]
          },
          "metadata": {
            "tags": []
          }
        },
        {
          "output_type": "display_data",
          "data": {
            "text/html": [
              "<span style=\"color:blue\"> |-optimizer: rmsprop</span>"
            ],
            "text/plain": [
              "<IPython.core.display.HTML object>"
            ]
          },
          "metadata": {
            "tags": []
          }
        },
        {
          "output_type": "display_data",
          "data": {
            "text/html": [
              "<span style=\"color:cyan\"> |-tuner/bracket: 2</span>"
            ],
            "text/plain": [
              "<IPython.core.display.HTML object>"
            ]
          },
          "metadata": {
            "tags": []
          }
        },
        {
          "output_type": "display_data",
          "data": {
            "text/html": [
              "<span style=\"color:blue\"> |-tuner/epochs: 4</span>"
            ],
            "text/plain": [
              "<IPython.core.display.HTML object>"
            ]
          },
          "metadata": {
            "tags": []
          }
        },
        {
          "output_type": "display_data",
          "data": {
            "text/html": [
              "<span style=\"color:cyan\"> |-tuner/initial_epoch: 2</span>"
            ],
            "text/plain": [
              "<IPython.core.display.HTML object>"
            ]
          },
          "metadata": {
            "tags": []
          }
        },
        {
          "output_type": "display_data",
          "data": {
            "text/html": [
              "<span style=\"color:blue\"> |-tuner/round: 1</span>"
            ],
            "text/plain": [
              "<IPython.core.display.HTML object>"
            ]
          },
          "metadata": {
            "tags": []
          }
        },
        {
          "output_type": "display_data",
          "data": {
            "text/html": [
              "<span style=\"color:cyan\"> |-tuner/trial_id: de391284a26c63675bdfdb7c4ef97f7f</span>"
            ],
            "text/plain": [
              "<IPython.core.display.HTML object>"
            ]
          },
          "metadata": {
            "tags": []
          }
        },
        {
          "output_type": "stream",
          "text": [
            "WARNING:tensorflow:`input_shape` is undefined or non-square, or `rows` is not in [96, 128, 160, 192, 224]. Weights for input shape (224, 224) will be loaded as the default.\n",
            "Epoch 3/4\n",
            "45/45 [==============================] - 10s 213ms/step - loss: 0.1510 - accuracy: 0.9381 - val_loss: 0.0328 - val_accuracy: 0.9901\n",
            "Epoch 4/4\n",
            "45/45 [==============================] - 9s 200ms/step - loss: 0.0219 - accuracy: 0.9920 - val_loss: 0.0236 - val_accuracy: 0.9887\n"
          ],
          "name": "stdout"
        },
        {
          "output_type": "display_data",
          "data": {
            "text/html": [
              "<span style=\"color:#4527A0\"><h1 style=\"font-size:18px\">Trial complete</h1></span>"
            ],
            "text/plain": [
              "<IPython.core.display.HTML object>"
            ]
          },
          "metadata": {
            "tags": []
          }
        },
        {
          "output_type": "display_data",
          "data": {
            "text/html": [
              "<span style=\"color:#4527A0\"><h1 style=\"font-size:18px\">Trial summary</h1></span>"
            ],
            "text/plain": [
              "<IPython.core.display.HTML object>"
            ]
          },
          "metadata": {
            "tags": []
          }
        },
        {
          "output_type": "display_data",
          "data": {
            "text/html": [
              "<span style=\"color:cyan\"> |-Trial ID: c3f723cb6c18e54a2f0fbeb0422b79fc</span>"
            ],
            "text/plain": [
              "<IPython.core.display.HTML object>"
            ]
          },
          "metadata": {
            "tags": []
          }
        },
        {
          "output_type": "display_data",
          "data": {
            "text/html": [
              "<span style=\"color:cyan\"> |-Score: 0.021863147616386414</span>"
            ],
            "text/plain": [
              "<IPython.core.display.HTML object>"
            ]
          },
          "metadata": {
            "tags": []
          }
        },
        {
          "output_type": "display_data",
          "data": {
            "text/html": [
              "<span style=\"color:cyan\"> |-Best step: 0</span>"
            ],
            "text/plain": [
              "<IPython.core.display.HTML object>"
            ]
          },
          "metadata": {
            "tags": []
          }
        },
        {
          "output_type": "display_data",
          "data": {
            "text/html": [
              "<span style=\"color:#7E57C2\"><h2 style=\"font-size:16px\">Hyperparameters:</h2></span>"
            ],
            "text/plain": [
              "<IPython.core.display.HTML object>"
            ]
          },
          "metadata": {
            "tags": []
          }
        },
        {
          "output_type": "display_data",
          "data": {
            "text/html": [
              "<span style=\"color:cyan\"> |-activation: selu</span>"
            ],
            "text/plain": [
              "<IPython.core.display.HTML object>"
            ]
          },
          "metadata": {
            "tags": []
          }
        },
        {
          "output_type": "display_data",
          "data": {
            "text/html": [
              "<span style=\"color:blue\"> |-dropout: 0.44</span>"
            ],
            "text/plain": [
              "<IPython.core.display.HTML object>"
            ]
          },
          "metadata": {
            "tags": []
          }
        },
        {
          "output_type": "display_data",
          "data": {
            "text/html": [
              "<span style=\"color:cyan\"> |-lr: 0.0001</span>"
            ],
            "text/plain": [
              "<IPython.core.display.HTML object>"
            ]
          },
          "metadata": {
            "tags": []
          }
        },
        {
          "output_type": "display_data",
          "data": {
            "text/html": [
              "<span style=\"color:blue\"> |-optimizer: sgd</span>"
            ],
            "text/plain": [
              "<IPython.core.display.HTML object>"
            ]
          },
          "metadata": {
            "tags": []
          }
        },
        {
          "output_type": "display_data",
          "data": {
            "text/html": [
              "<span style=\"color:cyan\"> |-tuner/bracket: 2</span>"
            ],
            "text/plain": [
              "<IPython.core.display.HTML object>"
            ]
          },
          "metadata": {
            "tags": []
          }
        },
        {
          "output_type": "display_data",
          "data": {
            "text/html": [
              "<span style=\"color:blue\"> |-tuner/epochs: 4</span>"
            ],
            "text/plain": [
              "<IPython.core.display.HTML object>"
            ]
          },
          "metadata": {
            "tags": []
          }
        },
        {
          "output_type": "display_data",
          "data": {
            "text/html": [
              "<span style=\"color:cyan\"> |-tuner/initial_epoch: 2</span>"
            ],
            "text/plain": [
              "<IPython.core.display.HTML object>"
            ]
          },
          "metadata": {
            "tags": []
          }
        },
        {
          "output_type": "display_data",
          "data": {
            "text/html": [
              "<span style=\"color:blue\"> |-tuner/round: 1</span>"
            ],
            "text/plain": [
              "<IPython.core.display.HTML object>"
            ]
          },
          "metadata": {
            "tags": []
          }
        },
        {
          "output_type": "display_data",
          "data": {
            "text/html": [
              "<span style=\"color:cyan\"> |-tuner/trial_id: 18c2e6c03916b841272f480ba50dc85d</span>"
            ],
            "text/plain": [
              "<IPython.core.display.HTML object>"
            ]
          },
          "metadata": {
            "tags": []
          }
        },
        {
          "output_type": "stream",
          "text": [
            "WARNING:tensorflow:`input_shape` is undefined or non-square, or `rows` is not in [96, 128, 160, 192, 224]. Weights for input shape (224, 224) will be loaded as the default.\n",
            "Epoch 3/4\n",
            "45/45 [==============================] - 10s 215ms/step - loss: 0.1175 - accuracy: 0.9535 - val_loss: 0.0263 - val_accuracy: 0.9901\n",
            "Epoch 4/4\n",
            "45/45 [==============================] - 9s 201ms/step - loss: 0.0231 - accuracy: 0.9915 - val_loss: 0.0207 - val_accuracy: 0.9922\n"
          ],
          "name": "stdout"
        },
        {
          "output_type": "display_data",
          "data": {
            "text/html": [
              "<span style=\"color:#4527A0\"><h1 style=\"font-size:18px\">Trial complete</h1></span>"
            ],
            "text/plain": [
              "<IPython.core.display.HTML object>"
            ]
          },
          "metadata": {
            "tags": []
          }
        },
        {
          "output_type": "display_data",
          "data": {
            "text/html": [
              "<span style=\"color:#4527A0\"><h1 style=\"font-size:18px\">Trial summary</h1></span>"
            ],
            "text/plain": [
              "<IPython.core.display.HTML object>"
            ]
          },
          "metadata": {
            "tags": []
          }
        },
        {
          "output_type": "display_data",
          "data": {
            "text/html": [
              "<span style=\"color:cyan\"> |-Trial ID: 2f82e6c16085f3e0d64a3a14a64329d5</span>"
            ],
            "text/plain": [
              "<IPython.core.display.HTML object>"
            ]
          },
          "metadata": {
            "tags": []
          }
        },
        {
          "output_type": "display_data",
          "data": {
            "text/html": [
              "<span style=\"color:cyan\"> |-Score: 0.02310674451291561</span>"
            ],
            "text/plain": [
              "<IPython.core.display.HTML object>"
            ]
          },
          "metadata": {
            "tags": []
          }
        },
        {
          "output_type": "display_data",
          "data": {
            "text/html": [
              "<span style=\"color:cyan\"> |-Best step: 0</span>"
            ],
            "text/plain": [
              "<IPython.core.display.HTML object>"
            ]
          },
          "metadata": {
            "tags": []
          }
        },
        {
          "output_type": "display_data",
          "data": {
            "text/html": [
              "<span style=\"color:#7E57C2\"><h2 style=\"font-size:16px\">Hyperparameters:</h2></span>"
            ],
            "text/plain": [
              "<IPython.core.display.HTML object>"
            ]
          },
          "metadata": {
            "tags": []
          }
        },
        {
          "output_type": "display_data",
          "data": {
            "text/html": [
              "<span style=\"color:cyan\"> |-activation: relu</span>"
            ],
            "text/plain": [
              "<IPython.core.display.HTML object>"
            ]
          },
          "metadata": {
            "tags": []
          }
        },
        {
          "output_type": "display_data",
          "data": {
            "text/html": [
              "<span style=\"color:blue\"> |-dropout: 0.34</span>"
            ],
            "text/plain": [
              "<IPython.core.display.HTML object>"
            ]
          },
          "metadata": {
            "tags": []
          }
        },
        {
          "output_type": "display_data",
          "data": {
            "text/html": [
              "<span style=\"color:cyan\"> |-lr: 0.0464</span>"
            ],
            "text/plain": [
              "<IPython.core.display.HTML object>"
            ]
          },
          "metadata": {
            "tags": []
          }
        },
        {
          "output_type": "display_data",
          "data": {
            "text/html": [
              "<span style=\"color:blue\"> |-optimizer: adam</span>"
            ],
            "text/plain": [
              "<IPython.core.display.HTML object>"
            ]
          },
          "metadata": {
            "tags": []
          }
        },
        {
          "output_type": "display_data",
          "data": {
            "text/html": [
              "<span style=\"color:cyan\"> |-tuner/bracket: 2</span>"
            ],
            "text/plain": [
              "<IPython.core.display.HTML object>"
            ]
          },
          "metadata": {
            "tags": []
          }
        },
        {
          "output_type": "display_data",
          "data": {
            "text/html": [
              "<span style=\"color:blue\"> |-tuner/epochs: 4</span>"
            ],
            "text/plain": [
              "<IPython.core.display.HTML object>"
            ]
          },
          "metadata": {
            "tags": []
          }
        },
        {
          "output_type": "display_data",
          "data": {
            "text/html": [
              "<span style=\"color:cyan\"> |-tuner/initial_epoch: 2</span>"
            ],
            "text/plain": [
              "<IPython.core.display.HTML object>"
            ]
          },
          "metadata": {
            "tags": []
          }
        },
        {
          "output_type": "display_data",
          "data": {
            "text/html": [
              "<span style=\"color:blue\"> |-tuner/round: 1</span>"
            ],
            "text/plain": [
              "<IPython.core.display.HTML object>"
            ]
          },
          "metadata": {
            "tags": []
          }
        },
        {
          "output_type": "display_data",
          "data": {
            "text/html": [
              "<span style=\"color:cyan\"> |-tuner/trial_id: 0de46d9f53a33583705e4b859d5faadf</span>"
            ],
            "text/plain": [
              "<IPython.core.display.HTML object>"
            ]
          },
          "metadata": {
            "tags": []
          }
        },
        {
          "output_type": "stream",
          "text": [
            "WARNING:tensorflow:`input_shape` is undefined or non-square, or `rows` is not in [96, 128, 160, 192, 224]. Weights for input shape (224, 224) will be loaded as the default.\n",
            "Epoch 5/10\n",
            "45/45 [==============================] - 10s 212ms/step - loss: 0.1246 - accuracy: 0.9486 - val_loss: 0.0279 - val_accuracy: 0.9908\n",
            "Epoch 6/10\n",
            "45/45 [==============================] - 9s 201ms/step - loss: 0.0213 - accuracy: 0.9940 - val_loss: 0.0223 - val_accuracy: 0.9915\n",
            "Epoch 7/10\n",
            "45/45 [==============================] - 9s 200ms/step - loss: 0.0163 - accuracy: 0.9959 - val_loss: 0.0225 - val_accuracy: 0.9943\n",
            "Epoch 8/10\n",
            "45/45 [==============================] - 9s 196ms/step - loss: 0.0169 - accuracy: 0.9954 - val_loss: 0.0199 - val_accuracy: 0.9943\n",
            "Epoch 9/10\n",
            "45/45 [==============================] - 9s 198ms/step - loss: 0.0135 - accuracy: 0.9963 - val_loss: 0.0179 - val_accuracy: 0.9936\n",
            "Epoch 10/10\n",
            "45/45 [==============================] - 9s 198ms/step - loss: 0.0099 - accuracy: 0.9970 - val_loss: 0.0170 - val_accuracy: 0.9936\n"
          ],
          "name": "stdout"
        },
        {
          "output_type": "display_data",
          "data": {
            "text/html": [
              "<span style=\"color:#4527A0\"><h1 style=\"font-size:18px\">Trial complete</h1></span>"
            ],
            "text/plain": [
              "<IPython.core.display.HTML object>"
            ]
          },
          "metadata": {
            "tags": []
          }
        },
        {
          "output_type": "display_data",
          "data": {
            "text/html": [
              "<span style=\"color:#4527A0\"><h1 style=\"font-size:18px\">Trial summary</h1></span>"
            ],
            "text/plain": [
              "<IPython.core.display.HTML object>"
            ]
          },
          "metadata": {
            "tags": []
          }
        },
        {
          "output_type": "display_data",
          "data": {
            "text/html": [
              "<span style=\"color:cyan\"> |-Trial ID: 06ecbf0eaac028f6fb7470dbe4278954</span>"
            ],
            "text/plain": [
              "<IPython.core.display.HTML object>"
            ]
          },
          "metadata": {
            "tags": []
          }
        },
        {
          "output_type": "display_data",
          "data": {
            "text/html": [
              "<span style=\"color:cyan\"> |-Score: 0.009932799264788628</span>"
            ],
            "text/plain": [
              "<IPython.core.display.HTML object>"
            ]
          },
          "metadata": {
            "tags": []
          }
        },
        {
          "output_type": "display_data",
          "data": {
            "text/html": [
              "<span style=\"color:cyan\"> |-Best step: 0</span>"
            ],
            "text/plain": [
              "<IPython.core.display.HTML object>"
            ]
          },
          "metadata": {
            "tags": []
          }
        },
        {
          "output_type": "display_data",
          "data": {
            "text/html": [
              "<span style=\"color:#7E57C2\"><h2 style=\"font-size:16px\">Hyperparameters:</h2></span>"
            ],
            "text/plain": [
              "<IPython.core.display.HTML object>"
            ]
          },
          "metadata": {
            "tags": []
          }
        },
        {
          "output_type": "display_data",
          "data": {
            "text/html": [
              "<span style=\"color:cyan\"> |-activation: sigmoid</span>"
            ],
            "text/plain": [
              "<IPython.core.display.HTML object>"
            ]
          },
          "metadata": {
            "tags": []
          }
        },
        {
          "output_type": "display_data",
          "data": {
            "text/html": [
              "<span style=\"color:blue\"> |-dropout: 0.34</span>"
            ],
            "text/plain": [
              "<IPython.core.display.HTML object>"
            ]
          },
          "metadata": {
            "tags": []
          }
        },
        {
          "output_type": "display_data",
          "data": {
            "text/html": [
              "<span style=\"color:cyan\"> |-lr: 0.0654</span>"
            ],
            "text/plain": [
              "<IPython.core.display.HTML object>"
            ]
          },
          "metadata": {
            "tags": []
          }
        },
        {
          "output_type": "display_data",
          "data": {
            "text/html": [
              "<span style=\"color:blue\"> |-optimizer: rmsprop</span>"
            ],
            "text/plain": [
              "<IPython.core.display.HTML object>"
            ]
          },
          "metadata": {
            "tags": []
          }
        },
        {
          "output_type": "display_data",
          "data": {
            "text/html": [
              "<span style=\"color:cyan\"> |-tuner/bracket: 2</span>"
            ],
            "text/plain": [
              "<IPython.core.display.HTML object>"
            ]
          },
          "metadata": {
            "tags": []
          }
        },
        {
          "output_type": "display_data",
          "data": {
            "text/html": [
              "<span style=\"color:blue\"> |-tuner/epochs: 10</span>"
            ],
            "text/plain": [
              "<IPython.core.display.HTML object>"
            ]
          },
          "metadata": {
            "tags": []
          }
        },
        {
          "output_type": "display_data",
          "data": {
            "text/html": [
              "<span style=\"color:cyan\"> |-tuner/initial_epoch: 4</span>"
            ],
            "text/plain": [
              "<IPython.core.display.HTML object>"
            ]
          },
          "metadata": {
            "tags": []
          }
        },
        {
          "output_type": "display_data",
          "data": {
            "text/html": [
              "<span style=\"color:blue\"> |-tuner/round: 2</span>"
            ],
            "text/plain": [
              "<IPython.core.display.HTML object>"
            ]
          },
          "metadata": {
            "tags": []
          }
        },
        {
          "output_type": "display_data",
          "data": {
            "text/html": [
              "<span style=\"color:cyan\"> |-tuner/trial_id: b60caf42419aefedf168acd568ceaae9</span>"
            ],
            "text/plain": [
              "<IPython.core.display.HTML object>"
            ]
          },
          "metadata": {
            "tags": []
          }
        },
        {
          "output_type": "stream",
          "text": [
            "WARNING:tensorflow:`input_shape` is undefined or non-square, or `rows` is not in [96, 128, 160, 192, 224]. Weights for input shape (224, 224) will be loaded as the default.\n",
            "Epoch 5/10\n",
            "45/45 [==============================] - 9s 211ms/step - loss: 0.1422 - accuracy: 0.9417 - val_loss: 0.0304 - val_accuracy: 0.9894\n",
            "Epoch 6/10\n",
            "45/45 [==============================] - 9s 201ms/step - loss: 0.0232 - accuracy: 0.9928 - val_loss: 0.0229 - val_accuracy: 0.9922\n",
            "Epoch 7/10\n",
            "45/45 [==============================] - 9s 199ms/step - loss: 0.0188 - accuracy: 0.9942 - val_loss: 0.0200 - val_accuracy: 0.9936\n",
            "Epoch 8/10\n",
            "45/45 [==============================] - 9s 199ms/step - loss: 0.0168 - accuracy: 0.9952 - val_loss: 0.0180 - val_accuracy: 0.9936\n",
            "Epoch 9/10\n",
            "45/45 [==============================] - 9s 198ms/step - loss: 0.0127 - accuracy: 0.9970 - val_loss: 0.0170 - val_accuracy: 0.9936\n",
            "Epoch 10/10\n",
            "45/45 [==============================] - 9s 199ms/step - loss: 0.0121 - accuracy: 0.9966 - val_loss: 0.0167 - val_accuracy: 0.9936\n"
          ],
          "name": "stdout"
        },
        {
          "output_type": "display_data",
          "data": {
            "text/html": [
              "<span style=\"color:#4527A0\"><h1 style=\"font-size:18px\">Trial complete</h1></span>"
            ],
            "text/plain": [
              "<IPython.core.display.HTML object>"
            ]
          },
          "metadata": {
            "tags": []
          }
        },
        {
          "output_type": "display_data",
          "data": {
            "text/html": [
              "<span style=\"color:#4527A0\"><h1 style=\"font-size:18px\">Trial summary</h1></span>"
            ],
            "text/plain": [
              "<IPython.core.display.HTML object>"
            ]
          },
          "metadata": {
            "tags": []
          }
        },
        {
          "output_type": "display_data",
          "data": {
            "text/html": [
              "<span style=\"color:cyan\"> |-Trial ID: 4775a8496e3a0a613de465f0f0e00826</span>"
            ],
            "text/plain": [
              "<IPython.core.display.HTML object>"
            ]
          },
          "metadata": {
            "tags": []
          }
        },
        {
          "output_type": "display_data",
          "data": {
            "text/html": [
              "<span style=\"color:cyan\"> |-Score: 0.01213766634464264</span>"
            ],
            "text/plain": [
              "<IPython.core.display.HTML object>"
            ]
          },
          "metadata": {
            "tags": []
          }
        },
        {
          "output_type": "display_data",
          "data": {
            "text/html": [
              "<span style=\"color:cyan\"> |-Best step: 0</span>"
            ],
            "text/plain": [
              "<IPython.core.display.HTML object>"
            ]
          },
          "metadata": {
            "tags": []
          }
        },
        {
          "output_type": "display_data",
          "data": {
            "text/html": [
              "<span style=\"color:#7E57C2\"><h2 style=\"font-size:16px\">Hyperparameters:</h2></span>"
            ],
            "text/plain": [
              "<IPython.core.display.HTML object>"
            ]
          },
          "metadata": {
            "tags": []
          }
        },
        {
          "output_type": "display_data",
          "data": {
            "text/html": [
              "<span style=\"color:cyan\"> |-activation: selu</span>"
            ],
            "text/plain": [
              "<IPython.core.display.HTML object>"
            ]
          },
          "metadata": {
            "tags": []
          }
        },
        {
          "output_type": "display_data",
          "data": {
            "text/html": [
              "<span style=\"color:blue\"> |-dropout: 0.44</span>"
            ],
            "text/plain": [
              "<IPython.core.display.HTML object>"
            ]
          },
          "metadata": {
            "tags": []
          }
        },
        {
          "output_type": "display_data",
          "data": {
            "text/html": [
              "<span style=\"color:cyan\"> |-lr: 0.0001</span>"
            ],
            "text/plain": [
              "<IPython.core.display.HTML object>"
            ]
          },
          "metadata": {
            "tags": []
          }
        },
        {
          "output_type": "display_data",
          "data": {
            "text/html": [
              "<span style=\"color:blue\"> |-optimizer: sgd</span>"
            ],
            "text/plain": [
              "<IPython.core.display.HTML object>"
            ]
          },
          "metadata": {
            "tags": []
          }
        },
        {
          "output_type": "display_data",
          "data": {
            "text/html": [
              "<span style=\"color:cyan\"> |-tuner/bracket: 2</span>"
            ],
            "text/plain": [
              "<IPython.core.display.HTML object>"
            ]
          },
          "metadata": {
            "tags": []
          }
        },
        {
          "output_type": "display_data",
          "data": {
            "text/html": [
              "<span style=\"color:blue\"> |-tuner/epochs: 10</span>"
            ],
            "text/plain": [
              "<IPython.core.display.HTML object>"
            ]
          },
          "metadata": {
            "tags": []
          }
        },
        {
          "output_type": "display_data",
          "data": {
            "text/html": [
              "<span style=\"color:cyan\"> |-tuner/initial_epoch: 4</span>"
            ],
            "text/plain": [
              "<IPython.core.display.HTML object>"
            ]
          },
          "metadata": {
            "tags": []
          }
        },
        {
          "output_type": "display_data",
          "data": {
            "text/html": [
              "<span style=\"color:blue\"> |-tuner/round: 2</span>"
            ],
            "text/plain": [
              "<IPython.core.display.HTML object>"
            ]
          },
          "metadata": {
            "tags": []
          }
        },
        {
          "output_type": "display_data",
          "data": {
            "text/html": [
              "<span style=\"color:cyan\"> |-tuner/trial_id: c3f723cb6c18e54a2f0fbeb0422b79fc</span>"
            ],
            "text/plain": [
              "<IPython.core.display.HTML object>"
            ]
          },
          "metadata": {
            "tags": []
          }
        },
        {
          "output_type": "stream",
          "text": [
            "WARNING:tensorflow:`input_shape` is undefined or non-square, or `rows` is not in [96, 128, 160, 192, 224]. Weights for input shape (224, 224) will be loaded as the default.\n",
            "Epoch 1/4\n",
            "45/45 [==============================] - 10s 216ms/step - loss: 0.1607 - accuracy: 0.9360 - val_loss: 0.0398 - val_accuracy: 0.9873\n",
            "Epoch 2/4\n",
            "45/45 [==============================] - 9s 201ms/step - loss: 0.0240 - accuracy: 0.9940 - val_loss: 0.0235 - val_accuracy: 0.9922\n",
            "Epoch 3/4\n",
            "45/45 [==============================] - 9s 201ms/step - loss: 0.0198 - accuracy: 0.9933 - val_loss: 0.0230 - val_accuracy: 0.9929\n",
            "Epoch 4/4\n",
            "45/45 [==============================] - 9s 200ms/step - loss: 0.0173 - accuracy: 0.9952 - val_loss: 0.0183 - val_accuracy: 0.9929\n"
          ],
          "name": "stdout"
        },
        {
          "output_type": "display_data",
          "data": {
            "text/html": [
              "<span style=\"color:#4527A0\"><h1 style=\"font-size:18px\">Trial complete</h1></span>"
            ],
            "text/plain": [
              "<IPython.core.display.HTML object>"
            ]
          },
          "metadata": {
            "tags": []
          }
        },
        {
          "output_type": "display_data",
          "data": {
            "text/html": [
              "<span style=\"color:#4527A0\"><h1 style=\"font-size:18px\">Trial summary</h1></span>"
            ],
            "text/plain": [
              "<IPython.core.display.HTML object>"
            ]
          },
          "metadata": {
            "tags": []
          }
        },
        {
          "output_type": "display_data",
          "data": {
            "text/html": [
              "<span style=\"color:cyan\"> |-Trial ID: 0051dda9369fb67a3f0d2c6d91e59955</span>"
            ],
            "text/plain": [
              "<IPython.core.display.HTML object>"
            ]
          },
          "metadata": {
            "tags": []
          }
        },
        {
          "output_type": "display_data",
          "data": {
            "text/html": [
              "<span style=\"color:cyan\"> |-Score: 0.0172911137342453</span>"
            ],
            "text/plain": [
              "<IPython.core.display.HTML object>"
            ]
          },
          "metadata": {
            "tags": []
          }
        },
        {
          "output_type": "display_data",
          "data": {
            "text/html": [
              "<span style=\"color:cyan\"> |-Best step: 0</span>"
            ],
            "text/plain": [
              "<IPython.core.display.HTML object>"
            ]
          },
          "metadata": {
            "tags": []
          }
        },
        {
          "output_type": "display_data",
          "data": {
            "text/html": [
              "<span style=\"color:#7E57C2\"><h2 style=\"font-size:16px\">Hyperparameters:</h2></span>"
            ],
            "text/plain": [
              "<IPython.core.display.HTML object>"
            ]
          },
          "metadata": {
            "tags": []
          }
        },
        {
          "output_type": "display_data",
          "data": {
            "text/html": [
              "<span style=\"color:cyan\"> |-activation: selu</span>"
            ],
            "text/plain": [
              "<IPython.core.display.HTML object>"
            ]
          },
          "metadata": {
            "tags": []
          }
        },
        {
          "output_type": "display_data",
          "data": {
            "text/html": [
              "<span style=\"color:blue\"> |-dropout: 0.79</span>"
            ],
            "text/plain": [
              "<IPython.core.display.HTML object>"
            ]
          },
          "metadata": {
            "tags": []
          }
        },
        {
          "output_type": "display_data",
          "data": {
            "text/html": [
              "<span style=\"color:cyan\"> |-lr: 0.0926</span>"
            ],
            "text/plain": [
              "<IPython.core.display.HTML object>"
            ]
          },
          "metadata": {
            "tags": []
          }
        },
        {
          "output_type": "display_data",
          "data": {
            "text/html": [
              "<span style=\"color:blue\"> |-optimizer: adam</span>"
            ],
            "text/plain": [
              "<IPython.core.display.HTML object>"
            ]
          },
          "metadata": {
            "tags": []
          }
        },
        {
          "output_type": "display_data",
          "data": {
            "text/html": [
              "<span style=\"color:cyan\"> |-tuner/bracket: 1</span>"
            ],
            "text/plain": [
              "<IPython.core.display.HTML object>"
            ]
          },
          "metadata": {
            "tags": []
          }
        },
        {
          "output_type": "display_data",
          "data": {
            "text/html": [
              "<span style=\"color:blue\"> |-tuner/epochs: 4</span>"
            ],
            "text/plain": [
              "<IPython.core.display.HTML object>"
            ]
          },
          "metadata": {
            "tags": []
          }
        },
        {
          "output_type": "display_data",
          "data": {
            "text/html": [
              "<span style=\"color:cyan\"> |-tuner/initial_epoch: 0</span>"
            ],
            "text/plain": [
              "<IPython.core.display.HTML object>"
            ]
          },
          "metadata": {
            "tags": []
          }
        },
        {
          "output_type": "display_data",
          "data": {
            "text/html": [
              "<span style=\"color:blue\"> |-tuner/round: 0</span>"
            ],
            "text/plain": [
              "<IPython.core.display.HTML object>"
            ]
          },
          "metadata": {
            "tags": []
          }
        },
        {
          "output_type": "stream",
          "text": [
            "WARNING:tensorflow:`input_shape` is undefined or non-square, or `rows` is not in [96, 128, 160, 192, 224]. Weights for input shape (224, 224) will be loaded as the default.\n",
            "Epoch 1/4\n",
            "45/45 [==============================] - 10s 217ms/step - loss: 0.1391 - accuracy: 0.9409 - val_loss: 0.0265 - val_accuracy: 0.9915\n",
            "Epoch 2/4\n",
            "45/45 [==============================] - 9s 200ms/step - loss: 0.0243 - accuracy: 0.9926 - val_loss: 0.0292 - val_accuracy: 0.9922\n",
            "Epoch 3/4\n",
            "45/45 [==============================] - 9s 197ms/step - loss: 0.0194 - accuracy: 0.9952 - val_loss: 0.0201 - val_accuracy: 0.9936\n",
            "Epoch 4/4\n",
            "45/45 [==============================] - 9s 199ms/step - loss: 0.0144 - accuracy: 0.9958 - val_loss: 0.0196 - val_accuracy: 0.9936\n"
          ],
          "name": "stdout"
        },
        {
          "output_type": "display_data",
          "data": {
            "text/html": [
              "<span style=\"color:#4527A0\"><h1 style=\"font-size:18px\">Trial complete</h1></span>"
            ],
            "text/plain": [
              "<IPython.core.display.HTML object>"
            ]
          },
          "metadata": {
            "tags": []
          }
        },
        {
          "output_type": "display_data",
          "data": {
            "text/html": [
              "<span style=\"color:#4527A0\"><h1 style=\"font-size:18px\">Trial summary</h1></span>"
            ],
            "text/plain": [
              "<IPython.core.display.HTML object>"
            ]
          },
          "metadata": {
            "tags": []
          }
        },
        {
          "output_type": "display_data",
          "data": {
            "text/html": [
              "<span style=\"color:cyan\"> |-Trial ID: 99b2b85d47cbfcc58e05e27d39a54645</span>"
            ],
            "text/plain": [
              "<IPython.core.display.HTML object>"
            ]
          },
          "metadata": {
            "tags": []
          }
        },
        {
          "output_type": "display_data",
          "data": {
            "text/html": [
              "<span style=\"color:cyan\"> |-Score: 0.014402373693883419</span>"
            ],
            "text/plain": [
              "<IPython.core.display.HTML object>"
            ]
          },
          "metadata": {
            "tags": []
          }
        },
        {
          "output_type": "display_data",
          "data": {
            "text/html": [
              "<span style=\"color:cyan\"> |-Best step: 0</span>"
            ],
            "text/plain": [
              "<IPython.core.display.HTML object>"
            ]
          },
          "metadata": {
            "tags": []
          }
        },
        {
          "output_type": "display_data",
          "data": {
            "text/html": [
              "<span style=\"color:#7E57C2\"><h2 style=\"font-size:16px\">Hyperparameters:</h2></span>"
            ],
            "text/plain": [
              "<IPython.core.display.HTML object>"
            ]
          },
          "metadata": {
            "tags": []
          }
        },
        {
          "output_type": "display_data",
          "data": {
            "text/html": [
              "<span style=\"color:cyan\"> |-activation: sigmoid</span>"
            ],
            "text/plain": [
              "<IPython.core.display.HTML object>"
            ]
          },
          "metadata": {
            "tags": []
          }
        },
        {
          "output_type": "display_data",
          "data": {
            "text/html": [
              "<span style=\"color:blue\"> |-dropout: 0.35</span>"
            ],
            "text/plain": [
              "<IPython.core.display.HTML object>"
            ]
          },
          "metadata": {
            "tags": []
          }
        },
        {
          "output_type": "display_data",
          "data": {
            "text/html": [
              "<span style=\"color:cyan\"> |-lr: 0.0001</span>"
            ],
            "text/plain": [
              "<IPython.core.display.HTML object>"
            ]
          },
          "metadata": {
            "tags": []
          }
        },
        {
          "output_type": "display_data",
          "data": {
            "text/html": [
              "<span style=\"color:blue\"> |-optimizer: rmsprop</span>"
            ],
            "text/plain": [
              "<IPython.core.display.HTML object>"
            ]
          },
          "metadata": {
            "tags": []
          }
        },
        {
          "output_type": "display_data",
          "data": {
            "text/html": [
              "<span style=\"color:cyan\"> |-tuner/bracket: 1</span>"
            ],
            "text/plain": [
              "<IPython.core.display.HTML object>"
            ]
          },
          "metadata": {
            "tags": []
          }
        },
        {
          "output_type": "display_data",
          "data": {
            "text/html": [
              "<span style=\"color:blue\"> |-tuner/epochs: 4</span>"
            ],
            "text/plain": [
              "<IPython.core.display.HTML object>"
            ]
          },
          "metadata": {
            "tags": []
          }
        },
        {
          "output_type": "display_data",
          "data": {
            "text/html": [
              "<span style=\"color:cyan\"> |-tuner/initial_epoch: 0</span>"
            ],
            "text/plain": [
              "<IPython.core.display.HTML object>"
            ]
          },
          "metadata": {
            "tags": []
          }
        },
        {
          "output_type": "display_data",
          "data": {
            "text/html": [
              "<span style=\"color:blue\"> |-tuner/round: 0</span>"
            ],
            "text/plain": [
              "<IPython.core.display.HTML object>"
            ]
          },
          "metadata": {
            "tags": []
          }
        },
        {
          "output_type": "stream",
          "text": [
            "WARNING:tensorflow:`input_shape` is undefined or non-square, or `rows` is not in [96, 128, 160, 192, 224]. Weights for input shape (224, 224) will be loaded as the default.\n",
            "Epoch 1/4\n",
            "45/45 [==============================] - 10s 213ms/step - loss: 0.1882 - accuracy: 0.9257 - val_loss: 0.0338 - val_accuracy: 0.9908\n",
            "Epoch 2/4\n",
            "45/45 [==============================] - 9s 199ms/step - loss: 0.0292 - accuracy: 0.9922 - val_loss: 0.0266 - val_accuracy: 0.9908\n",
            "Epoch 3/4\n",
            "45/45 [==============================] - 9s 200ms/step - loss: 0.0227 - accuracy: 0.9931 - val_loss: 0.0244 - val_accuracy: 0.9929\n",
            "Epoch 4/4\n",
            "45/45 [==============================] - 9s 198ms/step - loss: 0.0174 - accuracy: 0.9947 - val_loss: 0.0230 - val_accuracy: 0.9936\n"
          ],
          "name": "stdout"
        },
        {
          "output_type": "display_data",
          "data": {
            "text/html": [
              "<span style=\"color:#4527A0\"><h1 style=\"font-size:18px\">Trial complete</h1></span>"
            ],
            "text/plain": [
              "<IPython.core.display.HTML object>"
            ]
          },
          "metadata": {
            "tags": []
          }
        },
        {
          "output_type": "display_data",
          "data": {
            "text/html": [
              "<span style=\"color:#4527A0\"><h1 style=\"font-size:18px\">Trial summary</h1></span>"
            ],
            "text/plain": [
              "<IPython.core.display.HTML object>"
            ]
          },
          "metadata": {
            "tags": []
          }
        },
        {
          "output_type": "display_data",
          "data": {
            "text/html": [
              "<span style=\"color:cyan\"> |-Trial ID: bdb3ebfb9f031d6b2ee28aeb8938003b</span>"
            ],
            "text/plain": [
              "<IPython.core.display.HTML object>"
            ]
          },
          "metadata": {
            "tags": []
          }
        },
        {
          "output_type": "display_data",
          "data": {
            "text/html": [
              "<span style=\"color:cyan\"> |-Score: 0.01736048236489296</span>"
            ],
            "text/plain": [
              "<IPython.core.display.HTML object>"
            ]
          },
          "metadata": {
            "tags": []
          }
        },
        {
          "output_type": "display_data",
          "data": {
            "text/html": [
              "<span style=\"color:cyan\"> |-Best step: 0</span>"
            ],
            "text/plain": [
              "<IPython.core.display.HTML object>"
            ]
          },
          "metadata": {
            "tags": []
          }
        },
        {
          "output_type": "display_data",
          "data": {
            "text/html": [
              "<span style=\"color:#7E57C2\"><h2 style=\"font-size:16px\">Hyperparameters:</h2></span>"
            ],
            "text/plain": [
              "<IPython.core.display.HTML object>"
            ]
          },
          "metadata": {
            "tags": []
          }
        },
        {
          "output_type": "display_data",
          "data": {
            "text/html": [
              "<span style=\"color:cyan\"> |-activation: sigmoid</span>"
            ],
            "text/plain": [
              "<IPython.core.display.HTML object>"
            ]
          },
          "metadata": {
            "tags": []
          }
        },
        {
          "output_type": "display_data",
          "data": {
            "text/html": [
              "<span style=\"color:blue\"> |-dropout: 0.42</span>"
            ],
            "text/plain": [
              "<IPython.core.display.HTML object>"
            ]
          },
          "metadata": {
            "tags": []
          }
        },
        {
          "output_type": "display_data",
          "data": {
            "text/html": [
              "<span style=\"color:cyan\"> |-lr: 0.0926</span>"
            ],
            "text/plain": [
              "<IPython.core.display.HTML object>"
            ]
          },
          "metadata": {
            "tags": []
          }
        },
        {
          "output_type": "display_data",
          "data": {
            "text/html": [
              "<span style=\"color:blue\"> |-optimizer: rmsprop</span>"
            ],
            "text/plain": [
              "<IPython.core.display.HTML object>"
            ]
          },
          "metadata": {
            "tags": []
          }
        },
        {
          "output_type": "display_data",
          "data": {
            "text/html": [
              "<span style=\"color:cyan\"> |-tuner/bracket: 1</span>"
            ],
            "text/plain": [
              "<IPython.core.display.HTML object>"
            ]
          },
          "metadata": {
            "tags": []
          }
        },
        {
          "output_type": "display_data",
          "data": {
            "text/html": [
              "<span style=\"color:blue\"> |-tuner/epochs: 4</span>"
            ],
            "text/plain": [
              "<IPython.core.display.HTML object>"
            ]
          },
          "metadata": {
            "tags": []
          }
        },
        {
          "output_type": "display_data",
          "data": {
            "text/html": [
              "<span style=\"color:cyan\"> |-tuner/initial_epoch: 0</span>"
            ],
            "text/plain": [
              "<IPython.core.display.HTML object>"
            ]
          },
          "metadata": {
            "tags": []
          }
        },
        {
          "output_type": "display_data",
          "data": {
            "text/html": [
              "<span style=\"color:blue\"> |-tuner/round: 0</span>"
            ],
            "text/plain": [
              "<IPython.core.display.HTML object>"
            ]
          },
          "metadata": {
            "tags": []
          }
        },
        {
          "output_type": "stream",
          "text": [
            "WARNING:tensorflow:`input_shape` is undefined or non-square, or `rows` is not in [96, 128, 160, 192, 224]. Weights for input shape (224, 224) will be loaded as the default.\n",
            "Epoch 1/4\n",
            "45/45 [==============================] - 10s 214ms/step - loss: 0.1200 - accuracy: 0.9531 - val_loss: 0.0331 - val_accuracy: 0.9894\n",
            "Epoch 2/4\n",
            "45/45 [==============================] - 9s 199ms/step - loss: 0.0253 - accuracy: 0.9926 - val_loss: 0.0219 - val_accuracy: 0.9922\n",
            "Epoch 3/4\n",
            "45/45 [==============================] - 9s 199ms/step - loss: 0.0171 - accuracy: 0.9959 - val_loss: 0.0196 - val_accuracy: 0.9929\n",
            "Epoch 4/4\n",
            "45/45 [==============================] - 9s 199ms/step - loss: 0.0158 - accuracy: 0.9947 - val_loss: 0.0188 - val_accuracy: 0.9936\n"
          ],
          "name": "stdout"
        },
        {
          "output_type": "display_data",
          "data": {
            "text/html": [
              "<span style=\"color:#4527A0\"><h1 style=\"font-size:18px\">Trial complete</h1></span>"
            ],
            "text/plain": [
              "<IPython.core.display.HTML object>"
            ]
          },
          "metadata": {
            "tags": []
          }
        },
        {
          "output_type": "display_data",
          "data": {
            "text/html": [
              "<span style=\"color:#4527A0\"><h1 style=\"font-size:18px\">Trial summary</h1></span>"
            ],
            "text/plain": [
              "<IPython.core.display.HTML object>"
            ]
          },
          "metadata": {
            "tags": []
          }
        },
        {
          "output_type": "display_data",
          "data": {
            "text/html": [
              "<span style=\"color:cyan\"> |-Trial ID: 26f7800f9cacf8e27f1c4cdb235c62f9</span>"
            ],
            "text/plain": [
              "<IPython.core.display.HTML object>"
            ]
          },
          "metadata": {
            "tags": []
          }
        },
        {
          "output_type": "display_data",
          "data": {
            "text/html": [
              "<span style=\"color:cyan\"> |-Score: 0.015750359743833542</span>"
            ],
            "text/plain": [
              "<IPython.core.display.HTML object>"
            ]
          },
          "metadata": {
            "tags": []
          }
        },
        {
          "output_type": "display_data",
          "data": {
            "text/html": [
              "<span style=\"color:cyan\"> |-Best step: 0</span>"
            ],
            "text/plain": [
              "<IPython.core.display.HTML object>"
            ]
          },
          "metadata": {
            "tags": []
          }
        },
        {
          "output_type": "display_data",
          "data": {
            "text/html": [
              "<span style=\"color:#7E57C2\"><h2 style=\"font-size:16px\">Hyperparameters:</h2></span>"
            ],
            "text/plain": [
              "<IPython.core.display.HTML object>"
            ]
          },
          "metadata": {
            "tags": []
          }
        },
        {
          "output_type": "display_data",
          "data": {
            "text/html": [
              "<span style=\"color:cyan\"> |-activation: tanh</span>"
            ],
            "text/plain": [
              "<IPython.core.display.HTML object>"
            ]
          },
          "metadata": {
            "tags": []
          }
        },
        {
          "output_type": "display_data",
          "data": {
            "text/html": [
              "<span style=\"color:blue\"> |-dropout: 0.5</span>"
            ],
            "text/plain": [
              "<IPython.core.display.HTML object>"
            ]
          },
          "metadata": {
            "tags": []
          }
        },
        {
          "output_type": "display_data",
          "data": {
            "text/html": [
              "<span style=\"color:cyan\"> |-lr: 0.0001</span>"
            ],
            "text/plain": [
              "<IPython.core.display.HTML object>"
            ]
          },
          "metadata": {
            "tags": []
          }
        },
        {
          "output_type": "display_data",
          "data": {
            "text/html": [
              "<span style=\"color:blue\"> |-optimizer: rmsprop</span>"
            ],
            "text/plain": [
              "<IPython.core.display.HTML object>"
            ]
          },
          "metadata": {
            "tags": []
          }
        },
        {
          "output_type": "display_data",
          "data": {
            "text/html": [
              "<span style=\"color:cyan\"> |-tuner/bracket: 1</span>"
            ],
            "text/plain": [
              "<IPython.core.display.HTML object>"
            ]
          },
          "metadata": {
            "tags": []
          }
        },
        {
          "output_type": "display_data",
          "data": {
            "text/html": [
              "<span style=\"color:blue\"> |-tuner/epochs: 4</span>"
            ],
            "text/plain": [
              "<IPython.core.display.HTML object>"
            ]
          },
          "metadata": {
            "tags": []
          }
        },
        {
          "output_type": "display_data",
          "data": {
            "text/html": [
              "<span style=\"color:cyan\"> |-tuner/initial_epoch: 0</span>"
            ],
            "text/plain": [
              "<IPython.core.display.HTML object>"
            ]
          },
          "metadata": {
            "tags": []
          }
        },
        {
          "output_type": "display_data",
          "data": {
            "text/html": [
              "<span style=\"color:blue\"> |-tuner/round: 0</span>"
            ],
            "text/plain": [
              "<IPython.core.display.HTML object>"
            ]
          },
          "metadata": {
            "tags": []
          }
        },
        {
          "output_type": "stream",
          "text": [
            "WARNING:tensorflow:`input_shape` is undefined or non-square, or `rows` is not in [96, 128, 160, 192, 224]. Weights for input shape (224, 224) will be loaded as the default.\n",
            "Epoch 1/4\n",
            "45/45 [==============================] - 10s 212ms/step - loss: 0.0991 - accuracy: 0.9623 - val_loss: 0.0237 - val_accuracy: 0.9901\n",
            "Epoch 2/4\n",
            "45/45 [==============================] - 9s 200ms/step - loss: 0.0225 - accuracy: 0.9928 - val_loss: 0.0191 - val_accuracy: 0.9922\n",
            "Epoch 3/4\n",
            "45/45 [==============================] - 9s 199ms/step - loss: 0.0151 - accuracy: 0.9958 - val_loss: 0.0183 - val_accuracy: 0.9929\n",
            "Epoch 4/4\n",
            "45/45 [==============================] - 9s 198ms/step - loss: 0.0144 - accuracy: 0.9959 - val_loss: 0.0189 - val_accuracy: 0.9936\n"
          ],
          "name": "stdout"
        },
        {
          "output_type": "display_data",
          "data": {
            "text/html": [
              "<span style=\"color:#4527A0\"><h1 style=\"font-size:18px\">Trial complete</h1></span>"
            ],
            "text/plain": [
              "<IPython.core.display.HTML object>"
            ]
          },
          "metadata": {
            "tags": []
          }
        },
        {
          "output_type": "display_data",
          "data": {
            "text/html": [
              "<span style=\"color:#4527A0\"><h1 style=\"font-size:18px\">Trial summary</h1></span>"
            ],
            "text/plain": [
              "<IPython.core.display.HTML object>"
            ]
          },
          "metadata": {
            "tags": []
          }
        },
        {
          "output_type": "display_data",
          "data": {
            "text/html": [
              "<span style=\"color:cyan\"> |-Trial ID: 960eb17aab5fd69f0dffb946e5c58752</span>"
            ],
            "text/plain": [
              "<IPython.core.display.HTML object>"
            ]
          },
          "metadata": {
            "tags": []
          }
        },
        {
          "output_type": "display_data",
          "data": {
            "text/html": [
              "<span style=\"color:cyan\"> |-Score: 0.014401962980628014</span>"
            ],
            "text/plain": [
              "<IPython.core.display.HTML object>"
            ]
          },
          "metadata": {
            "tags": []
          }
        },
        {
          "output_type": "display_data",
          "data": {
            "text/html": [
              "<span style=\"color:cyan\"> |-Best step: 0</span>"
            ],
            "text/plain": [
              "<IPython.core.display.HTML object>"
            ]
          },
          "metadata": {
            "tags": []
          }
        },
        {
          "output_type": "display_data",
          "data": {
            "text/html": [
              "<span style=\"color:#7E57C2\"><h2 style=\"font-size:16px\">Hyperparameters:</h2></span>"
            ],
            "text/plain": [
              "<IPython.core.display.HTML object>"
            ]
          },
          "metadata": {
            "tags": []
          }
        },
        {
          "output_type": "display_data",
          "data": {
            "text/html": [
              "<span style=\"color:cyan\"> |-activation: elu</span>"
            ],
            "text/plain": [
              "<IPython.core.display.HTML object>"
            ]
          },
          "metadata": {
            "tags": []
          }
        },
        {
          "output_type": "display_data",
          "data": {
            "text/html": [
              "<span style=\"color:blue\"> |-dropout: 0.42</span>"
            ],
            "text/plain": [
              "<IPython.core.display.HTML object>"
            ]
          },
          "metadata": {
            "tags": []
          }
        },
        {
          "output_type": "display_data",
          "data": {
            "text/html": [
              "<span style=\"color:cyan\"> |-lr: 0.0654</span>"
            ],
            "text/plain": [
              "<IPython.core.display.HTML object>"
            ]
          },
          "metadata": {
            "tags": []
          }
        },
        {
          "output_type": "display_data",
          "data": {
            "text/html": [
              "<span style=\"color:blue\"> |-optimizer: adam</span>"
            ],
            "text/plain": [
              "<IPython.core.display.HTML object>"
            ]
          },
          "metadata": {
            "tags": []
          }
        },
        {
          "output_type": "display_data",
          "data": {
            "text/html": [
              "<span style=\"color:cyan\"> |-tuner/bracket: 1</span>"
            ],
            "text/plain": [
              "<IPython.core.display.HTML object>"
            ]
          },
          "metadata": {
            "tags": []
          }
        },
        {
          "output_type": "display_data",
          "data": {
            "text/html": [
              "<span style=\"color:blue\"> |-tuner/epochs: 4</span>"
            ],
            "text/plain": [
              "<IPython.core.display.HTML object>"
            ]
          },
          "metadata": {
            "tags": []
          }
        },
        {
          "output_type": "display_data",
          "data": {
            "text/html": [
              "<span style=\"color:cyan\"> |-tuner/initial_epoch: 0</span>"
            ],
            "text/plain": [
              "<IPython.core.display.HTML object>"
            ]
          },
          "metadata": {
            "tags": []
          }
        },
        {
          "output_type": "display_data",
          "data": {
            "text/html": [
              "<span style=\"color:blue\"> |-tuner/round: 0</span>"
            ],
            "text/plain": [
              "<IPython.core.display.HTML object>"
            ]
          },
          "metadata": {
            "tags": []
          }
        },
        {
          "output_type": "stream",
          "text": [
            "WARNING:tensorflow:`input_shape` is undefined or non-square, or `rows` is not in [96, 128, 160, 192, 224]. Weights for input shape (224, 224) will be loaded as the default.\n",
            "Epoch 1/4\n",
            "45/45 [==============================] - 10s 213ms/step - loss: 0.2034 - accuracy: 0.9227 - val_loss: 0.0300 - val_accuracy: 0.9915\n",
            "Epoch 2/4\n",
            "45/45 [==============================] - 9s 198ms/step - loss: 0.0314 - accuracy: 0.9905 - val_loss: 0.0243 - val_accuracy: 0.9908\n",
            "Epoch 3/4\n",
            "45/45 [==============================] - 9s 198ms/step - loss: 0.0237 - accuracy: 0.9938 - val_loss: 0.0226 - val_accuracy: 0.9915\n",
            "Epoch 4/4\n",
            "45/45 [==============================] - 9s 196ms/step - loss: 0.0191 - accuracy: 0.9950 - val_loss: 0.0200 - val_accuracy: 0.9922\n"
          ],
          "name": "stdout"
        },
        {
          "output_type": "display_data",
          "data": {
            "text/html": [
              "<span style=\"color:#4527A0\"><h1 style=\"font-size:18px\">Trial complete</h1></span>"
            ],
            "text/plain": [
              "<IPython.core.display.HTML object>"
            ]
          },
          "metadata": {
            "tags": []
          }
        },
        {
          "output_type": "display_data",
          "data": {
            "text/html": [
              "<span style=\"color:#4527A0\"><h1 style=\"font-size:18px\">Trial summary</h1></span>"
            ],
            "text/plain": [
              "<IPython.core.display.HTML object>"
            ]
          },
          "metadata": {
            "tags": []
          }
        },
        {
          "output_type": "display_data",
          "data": {
            "text/html": [
              "<span style=\"color:cyan\"> |-Trial ID: 8e4764d110268749c6fa98d712f45851</span>"
            ],
            "text/plain": [
              "<IPython.core.display.HTML object>"
            ]
          },
          "metadata": {
            "tags": []
          }
        },
        {
          "output_type": "display_data",
          "data": {
            "text/html": [
              "<span style=\"color:cyan\"> |-Score: 0.019095858559012413</span>"
            ],
            "text/plain": [
              "<IPython.core.display.HTML object>"
            ]
          },
          "metadata": {
            "tags": []
          }
        },
        {
          "output_type": "display_data",
          "data": {
            "text/html": [
              "<span style=\"color:cyan\"> |-Best step: 0</span>"
            ],
            "text/plain": [
              "<IPython.core.display.HTML object>"
            ]
          },
          "metadata": {
            "tags": []
          }
        },
        {
          "output_type": "display_data",
          "data": {
            "text/html": [
              "<span style=\"color:#7E57C2\"><h2 style=\"font-size:16px\">Hyperparameters:</h2></span>"
            ],
            "text/plain": [
              "<IPython.core.display.HTML object>"
            ]
          },
          "metadata": {
            "tags": []
          }
        },
        {
          "output_type": "display_data",
          "data": {
            "text/html": [
              "<span style=\"color:cyan\"> |-activation: sigmoid</span>"
            ],
            "text/plain": [
              "<IPython.core.display.HTML object>"
            ]
          },
          "metadata": {
            "tags": []
          }
        },
        {
          "output_type": "display_data",
          "data": {
            "text/html": [
              "<span style=\"color:blue\"> |-dropout: 0.35</span>"
            ],
            "text/plain": [
              "<IPython.core.display.HTML object>"
            ]
          },
          "metadata": {
            "tags": []
          }
        },
        {
          "output_type": "display_data",
          "data": {
            "text/html": [
              "<span style=\"color:cyan\"> |-lr: 0.0926</span>"
            ],
            "text/plain": [
              "<IPython.core.display.HTML object>"
            ]
          },
          "metadata": {
            "tags": []
          }
        },
        {
          "output_type": "display_data",
          "data": {
            "text/html": [
              "<span style=\"color:blue\"> |-optimizer: rmsprop</span>"
            ],
            "text/plain": [
              "<IPython.core.display.HTML object>"
            ]
          },
          "metadata": {
            "tags": []
          }
        },
        {
          "output_type": "display_data",
          "data": {
            "text/html": [
              "<span style=\"color:cyan\"> |-tuner/bracket: 1</span>"
            ],
            "text/plain": [
              "<IPython.core.display.HTML object>"
            ]
          },
          "metadata": {
            "tags": []
          }
        },
        {
          "output_type": "display_data",
          "data": {
            "text/html": [
              "<span style=\"color:blue\"> |-tuner/epochs: 4</span>"
            ],
            "text/plain": [
              "<IPython.core.display.HTML object>"
            ]
          },
          "metadata": {
            "tags": []
          }
        },
        {
          "output_type": "display_data",
          "data": {
            "text/html": [
              "<span style=\"color:cyan\"> |-tuner/initial_epoch: 0</span>"
            ],
            "text/plain": [
              "<IPython.core.display.HTML object>"
            ]
          },
          "metadata": {
            "tags": []
          }
        },
        {
          "output_type": "display_data",
          "data": {
            "text/html": [
              "<span style=\"color:blue\"> |-tuner/round: 0</span>"
            ],
            "text/plain": [
              "<IPython.core.display.HTML object>"
            ]
          },
          "metadata": {
            "tags": []
          }
        },
        {
          "output_type": "stream",
          "text": [
            "WARNING:tensorflow:`input_shape` is undefined or non-square, or `rows` is not in [96, 128, 160, 192, 224]. Weights for input shape (224, 224) will be loaded as the default.\n",
            "Epoch 5/10\n",
            "45/45 [==============================] - 10s 212ms/step - loss: 0.0976 - accuracy: 0.9620 - val_loss: 0.0257 - val_accuracy: 0.9922\n",
            "Epoch 6/10\n",
            "45/45 [==============================] - 9s 199ms/step - loss: 0.0250 - accuracy: 0.9924 - val_loss: 0.0222 - val_accuracy: 0.9936\n",
            "Epoch 7/10\n",
            "45/45 [==============================] - 9s 199ms/step - loss: 0.0188 - accuracy: 0.9935 - val_loss: 0.0192 - val_accuracy: 0.9936\n",
            "Epoch 8/10\n",
            "45/45 [==============================] - 9s 199ms/step - loss: 0.0141 - accuracy: 0.9958 - val_loss: 0.0181 - val_accuracy: 0.9936\n",
            "Epoch 9/10\n",
            "45/45 [==============================] - 9s 198ms/step - loss: 0.0114 - accuracy: 0.9970 - val_loss: 0.0193 - val_accuracy: 0.9936\n",
            "Epoch 10/10\n",
            "45/45 [==============================] - 9s 197ms/step - loss: 0.0096 - accuracy: 0.9979 - val_loss: 0.0174 - val_accuracy: 0.9936\n"
          ],
          "name": "stdout"
        },
        {
          "output_type": "display_data",
          "data": {
            "text/html": [
              "<span style=\"color:#4527A0\"><h1 style=\"font-size:18px\">Trial complete</h1></span>"
            ],
            "text/plain": [
              "<IPython.core.display.HTML object>"
            ]
          },
          "metadata": {
            "tags": []
          }
        },
        {
          "output_type": "display_data",
          "data": {
            "text/html": [
              "<span style=\"color:#4527A0\"><h1 style=\"font-size:18px\">Trial summary</h1></span>"
            ],
            "text/plain": [
              "<IPython.core.display.HTML object>"
            ]
          },
          "metadata": {
            "tags": []
          }
        },
        {
          "output_type": "display_data",
          "data": {
            "text/html": [
              "<span style=\"color:cyan\"> |-Trial ID: 0488bcc2578d0082782166d8aaa809e3</span>"
            ],
            "text/plain": [
              "<IPython.core.display.HTML object>"
            ]
          },
          "metadata": {
            "tags": []
          }
        },
        {
          "output_type": "display_data",
          "data": {
            "text/html": [
              "<span style=\"color:cyan\"> |-Score: 0.009557069279253483</span>"
            ],
            "text/plain": [
              "<IPython.core.display.HTML object>"
            ]
          },
          "metadata": {
            "tags": []
          }
        },
        {
          "output_type": "display_data",
          "data": {
            "text/html": [
              "<span style=\"color:cyan\"> |-Best step: 0</span>"
            ],
            "text/plain": [
              "<IPython.core.display.HTML object>"
            ]
          },
          "metadata": {
            "tags": []
          }
        },
        {
          "output_type": "display_data",
          "data": {
            "text/html": [
              "<span style=\"color:#7E57C2\"><h2 style=\"font-size:16px\">Hyperparameters:</h2></span>"
            ],
            "text/plain": [
              "<IPython.core.display.HTML object>"
            ]
          },
          "metadata": {
            "tags": []
          }
        },
        {
          "output_type": "display_data",
          "data": {
            "text/html": [
              "<span style=\"color:cyan\"> |-activation: elu</span>"
            ],
            "text/plain": [
              "<IPython.core.display.HTML object>"
            ]
          },
          "metadata": {
            "tags": []
          }
        },
        {
          "output_type": "display_data",
          "data": {
            "text/html": [
              "<span style=\"color:blue\"> |-dropout: 0.42</span>"
            ],
            "text/plain": [
              "<IPython.core.display.HTML object>"
            ]
          },
          "metadata": {
            "tags": []
          }
        },
        {
          "output_type": "display_data",
          "data": {
            "text/html": [
              "<span style=\"color:cyan\"> |-lr: 0.0654</span>"
            ],
            "text/plain": [
              "<IPython.core.display.HTML object>"
            ]
          },
          "metadata": {
            "tags": []
          }
        },
        {
          "output_type": "display_data",
          "data": {
            "text/html": [
              "<span style=\"color:blue\"> |-optimizer: adam</span>"
            ],
            "text/plain": [
              "<IPython.core.display.HTML object>"
            ]
          },
          "metadata": {
            "tags": []
          }
        },
        {
          "output_type": "display_data",
          "data": {
            "text/html": [
              "<span style=\"color:cyan\"> |-tuner/bracket: 1</span>"
            ],
            "text/plain": [
              "<IPython.core.display.HTML object>"
            ]
          },
          "metadata": {
            "tags": []
          }
        },
        {
          "output_type": "display_data",
          "data": {
            "text/html": [
              "<span style=\"color:blue\"> |-tuner/epochs: 10</span>"
            ],
            "text/plain": [
              "<IPython.core.display.HTML object>"
            ]
          },
          "metadata": {
            "tags": []
          }
        },
        {
          "output_type": "display_data",
          "data": {
            "text/html": [
              "<span style=\"color:cyan\"> |-tuner/initial_epoch: 4</span>"
            ],
            "text/plain": [
              "<IPython.core.display.HTML object>"
            ]
          },
          "metadata": {
            "tags": []
          }
        },
        {
          "output_type": "display_data",
          "data": {
            "text/html": [
              "<span style=\"color:blue\"> |-tuner/round: 1</span>"
            ],
            "text/plain": [
              "<IPython.core.display.HTML object>"
            ]
          },
          "metadata": {
            "tags": []
          }
        },
        {
          "output_type": "display_data",
          "data": {
            "text/html": [
              "<span style=\"color:cyan\"> |-tuner/trial_id: 960eb17aab5fd69f0dffb946e5c58752</span>"
            ],
            "text/plain": [
              "<IPython.core.display.HTML object>"
            ]
          },
          "metadata": {
            "tags": []
          }
        },
        {
          "output_type": "stream",
          "text": [
            "WARNING:tensorflow:`input_shape` is undefined or non-square, or `rows` is not in [96, 128, 160, 192, 224]. Weights for input shape (224, 224) will be loaded as the default.\n",
            "Epoch 5/10\n",
            "45/45 [==============================] - 10s 212ms/step - loss: 0.2257 - accuracy: 0.9169 - val_loss: 0.0346 - val_accuracy: 0.9859\n",
            "Epoch 6/10\n",
            "45/45 [==============================] - 9s 198ms/step - loss: 0.0307 - accuracy: 0.9899 - val_loss: 0.0304 - val_accuracy: 0.9887\n",
            "Epoch 7/10\n",
            "45/45 [==============================] - 9s 199ms/step - loss: 0.0249 - accuracy: 0.9922 - val_loss: 0.0260 - val_accuracy: 0.9894\n",
            "Epoch 8/10\n",
            "45/45 [==============================] - 9s 199ms/step - loss: 0.0213 - accuracy: 0.9945 - val_loss: 0.0236 - val_accuracy: 0.9901\n",
            "Epoch 9/10\n",
            "45/45 [==============================] - 9s 202ms/step - loss: 0.0180 - accuracy: 0.9947 - val_loss: 0.0211 - val_accuracy: 0.9908\n",
            "Epoch 10/10\n",
            "45/45 [==============================] - 9s 197ms/step - loss: 0.0143 - accuracy: 0.9958 - val_loss: 0.0212 - val_accuracy: 0.9908\n"
          ],
          "name": "stdout"
        },
        {
          "output_type": "display_data",
          "data": {
            "text/html": [
              "<span style=\"color:#4527A0\"><h1 style=\"font-size:18px\">Trial complete</h1></span>"
            ],
            "text/plain": [
              "<IPython.core.display.HTML object>"
            ]
          },
          "metadata": {
            "tags": []
          }
        },
        {
          "output_type": "display_data",
          "data": {
            "text/html": [
              "<span style=\"color:#4527A0\"><h1 style=\"font-size:18px\">Trial summary</h1></span>"
            ],
            "text/plain": [
              "<IPython.core.display.HTML object>"
            ]
          },
          "metadata": {
            "tags": []
          }
        },
        {
          "output_type": "display_data",
          "data": {
            "text/html": [
              "<span style=\"color:cyan\"> |-Trial ID: 7bfea81c8cf05a40cda8ca1cad62d95e</span>"
            ],
            "text/plain": [
              "<IPython.core.display.HTML object>"
            ]
          },
          "metadata": {
            "tags": []
          }
        },
        {
          "output_type": "display_data",
          "data": {
            "text/html": [
              "<span style=\"color:cyan\"> |-Score: 0.014268086291849613</span>"
            ],
            "text/plain": [
              "<IPython.core.display.HTML object>"
            ]
          },
          "metadata": {
            "tags": []
          }
        },
        {
          "output_type": "display_data",
          "data": {
            "text/html": [
              "<span style=\"color:cyan\"> |-Best step: 0</span>"
            ],
            "text/plain": [
              "<IPython.core.display.HTML object>"
            ]
          },
          "metadata": {
            "tags": []
          }
        },
        {
          "output_type": "display_data",
          "data": {
            "text/html": [
              "<span style=\"color:#7E57C2\"><h2 style=\"font-size:16px\">Hyperparameters:</h2></span>"
            ],
            "text/plain": [
              "<IPython.core.display.HTML object>"
            ]
          },
          "metadata": {
            "tags": []
          }
        },
        {
          "output_type": "display_data",
          "data": {
            "text/html": [
              "<span style=\"color:cyan\"> |-activation: sigmoid</span>"
            ],
            "text/plain": [
              "<IPython.core.display.HTML object>"
            ]
          },
          "metadata": {
            "tags": []
          }
        },
        {
          "output_type": "display_data",
          "data": {
            "text/html": [
              "<span style=\"color:blue\"> |-dropout: 0.35</span>"
            ],
            "text/plain": [
              "<IPython.core.display.HTML object>"
            ]
          },
          "metadata": {
            "tags": []
          }
        },
        {
          "output_type": "display_data",
          "data": {
            "text/html": [
              "<span style=\"color:cyan\"> |-lr: 0.0001</span>"
            ],
            "text/plain": [
              "<IPython.core.display.HTML object>"
            ]
          },
          "metadata": {
            "tags": []
          }
        },
        {
          "output_type": "display_data",
          "data": {
            "text/html": [
              "<span style=\"color:blue\"> |-optimizer: rmsprop</span>"
            ],
            "text/plain": [
              "<IPython.core.display.HTML object>"
            ]
          },
          "metadata": {
            "tags": []
          }
        },
        {
          "output_type": "display_data",
          "data": {
            "text/html": [
              "<span style=\"color:cyan\"> |-tuner/bracket: 1</span>"
            ],
            "text/plain": [
              "<IPython.core.display.HTML object>"
            ]
          },
          "metadata": {
            "tags": []
          }
        },
        {
          "output_type": "display_data",
          "data": {
            "text/html": [
              "<span style=\"color:blue\"> |-tuner/epochs: 10</span>"
            ],
            "text/plain": [
              "<IPython.core.display.HTML object>"
            ]
          },
          "metadata": {
            "tags": []
          }
        },
        {
          "output_type": "display_data",
          "data": {
            "text/html": [
              "<span style=\"color:cyan\"> |-tuner/initial_epoch: 4</span>"
            ],
            "text/plain": [
              "<IPython.core.display.HTML object>"
            ]
          },
          "metadata": {
            "tags": []
          }
        },
        {
          "output_type": "display_data",
          "data": {
            "text/html": [
              "<span style=\"color:blue\"> |-tuner/round: 1</span>"
            ],
            "text/plain": [
              "<IPython.core.display.HTML object>"
            ]
          },
          "metadata": {
            "tags": []
          }
        },
        {
          "output_type": "display_data",
          "data": {
            "text/html": [
              "<span style=\"color:cyan\"> |-tuner/trial_id: 99b2b85d47cbfcc58e05e27d39a54645</span>"
            ],
            "text/plain": [
              "<IPython.core.display.HTML object>"
            ]
          },
          "metadata": {
            "tags": []
          }
        },
        {
          "output_type": "stream",
          "text": [
            "WARNING:tensorflow:`input_shape` is undefined or non-square, or `rows` is not in [96, 128, 160, 192, 224]. Weights for input shape (224, 224) will be loaded as the default.\n",
            "Epoch 1/10\n",
            "45/45 [==============================] - 10s 213ms/step - loss: 0.1183 - accuracy: 0.9478 - val_loss: 0.0310 - val_accuracy: 0.9887\n",
            "Epoch 2/10\n",
            "45/45 [==============================] - 9s 199ms/step - loss: 0.0261 - accuracy: 0.9913 - val_loss: 0.0231 - val_accuracy: 0.9929\n",
            "Epoch 3/10\n",
            "45/45 [==============================] - 9s 199ms/step - loss: 0.0176 - accuracy: 0.9954 - val_loss: 0.0201 - val_accuracy: 0.9936\n",
            "Epoch 4/10\n",
            "45/45 [==============================] - 9s 198ms/step - loss: 0.0143 - accuracy: 0.9950 - val_loss: 0.0198 - val_accuracy: 0.9922\n",
            "Epoch 5/10\n",
            "45/45 [==============================] - 9s 199ms/step - loss: 0.0129 - accuracy: 0.9970 - val_loss: 0.0181 - val_accuracy: 0.9922\n",
            "Epoch 6/10\n",
            "45/45 [==============================] - 9s 200ms/step - loss: 0.0098 - accuracy: 0.9972 - val_loss: 0.0197 - val_accuracy: 0.9915\n",
            "Epoch 7/10\n",
            "45/45 [==============================] - 9s 198ms/step - loss: 0.0094 - accuracy: 0.9977 - val_loss: 0.0177 - val_accuracy: 0.9929\n",
            "Epoch 8/10\n",
            "45/45 [==============================] - 9s 198ms/step - loss: 0.0076 - accuracy: 0.9982 - val_loss: 0.0170 - val_accuracy: 0.9936\n",
            "Epoch 9/10\n",
            "45/45 [==============================] - 9s 194ms/step - loss: 0.0089 - accuracy: 0.9973 - val_loss: 0.0163 - val_accuracy: 0.9936\n",
            "Epoch 10/10\n",
            "45/45 [==============================] - 9s 198ms/step - loss: 0.0073 - accuracy: 0.9975 - val_loss: 0.0177 - val_accuracy: 0.9929\n"
          ],
          "name": "stdout"
        },
        {
          "output_type": "display_data",
          "data": {
            "text/html": [
              "<span style=\"color:#4527A0\"><h1 style=\"font-size:18px\">Trial complete</h1></span>"
            ],
            "text/plain": [
              "<IPython.core.display.HTML object>"
            ]
          },
          "metadata": {
            "tags": []
          }
        },
        {
          "output_type": "display_data",
          "data": {
            "text/html": [
              "<span style=\"color:#4527A0\"><h1 style=\"font-size:18px\">Trial summary</h1></span>"
            ],
            "text/plain": [
              "<IPython.core.display.HTML object>"
            ]
          },
          "metadata": {
            "tags": []
          }
        },
        {
          "output_type": "display_data",
          "data": {
            "text/html": [
              "<span style=\"color:cyan\"> |-Trial ID: 96ba9467b7c77aabb46d57fb30007400</span>"
            ],
            "text/plain": [
              "<IPython.core.display.HTML object>"
            ]
          },
          "metadata": {
            "tags": []
          }
        },
        {
          "output_type": "display_data",
          "data": {
            "text/html": [
              "<span style=\"color:cyan\"> |-Score: 0.007260781712830067</span>"
            ],
            "text/plain": [
              "<IPython.core.display.HTML object>"
            ]
          },
          "metadata": {
            "tags": []
          }
        },
        {
          "output_type": "display_data",
          "data": {
            "text/html": [
              "<span style=\"color:cyan\"> |-Best step: 0</span>"
            ],
            "text/plain": [
              "<IPython.core.display.HTML object>"
            ]
          },
          "metadata": {
            "tags": []
          }
        },
        {
          "output_type": "display_data",
          "data": {
            "text/html": [
              "<span style=\"color:#7E57C2\"><h2 style=\"font-size:16px\">Hyperparameters:</h2></span>"
            ],
            "text/plain": [
              "<IPython.core.display.HTML object>"
            ]
          },
          "metadata": {
            "tags": []
          }
        },
        {
          "output_type": "display_data",
          "data": {
            "text/html": [
              "<span style=\"color:cyan\"> |-activation: elu</span>"
            ],
            "text/plain": [
              "<IPython.core.display.HTML object>"
            ]
          },
          "metadata": {
            "tags": []
          }
        },
        {
          "output_type": "display_data",
          "data": {
            "text/html": [
              "<span style=\"color:blue\"> |-dropout: 0.42</span>"
            ],
            "text/plain": [
              "<IPython.core.display.HTML object>"
            ]
          },
          "metadata": {
            "tags": []
          }
        },
        {
          "output_type": "display_data",
          "data": {
            "text/html": [
              "<span style=\"color:cyan\"> |-lr: 0.0331</span>"
            ],
            "text/plain": [
              "<IPython.core.display.HTML object>"
            ]
          },
          "metadata": {
            "tags": []
          }
        },
        {
          "output_type": "display_data",
          "data": {
            "text/html": [
              "<span style=\"color:blue\"> |-optimizer: rmsprop</span>"
            ],
            "text/plain": [
              "<IPython.core.display.HTML object>"
            ]
          },
          "metadata": {
            "tags": []
          }
        },
        {
          "output_type": "display_data",
          "data": {
            "text/html": [
              "<span style=\"color:cyan\"> |-tuner/bracket: 0</span>"
            ],
            "text/plain": [
              "<IPython.core.display.HTML object>"
            ]
          },
          "metadata": {
            "tags": []
          }
        },
        {
          "output_type": "display_data",
          "data": {
            "text/html": [
              "<span style=\"color:blue\"> |-tuner/epochs: 10</span>"
            ],
            "text/plain": [
              "<IPython.core.display.HTML object>"
            ]
          },
          "metadata": {
            "tags": []
          }
        },
        {
          "output_type": "display_data",
          "data": {
            "text/html": [
              "<span style=\"color:cyan\"> |-tuner/initial_epoch: 0</span>"
            ],
            "text/plain": [
              "<IPython.core.display.HTML object>"
            ]
          },
          "metadata": {
            "tags": []
          }
        },
        {
          "output_type": "display_data",
          "data": {
            "text/html": [
              "<span style=\"color:blue\"> |-tuner/round: 0</span>"
            ],
            "text/plain": [
              "<IPython.core.display.HTML object>"
            ]
          },
          "metadata": {
            "tags": []
          }
        },
        {
          "output_type": "stream",
          "text": [
            "WARNING:tensorflow:`input_shape` is undefined or non-square, or `rows` is not in [96, 128, 160, 192, 224]. Weights for input shape (224, 224) will be loaded as the default.\n",
            "Epoch 1/10\n",
            "45/45 [==============================] - 10s 213ms/step - loss: 0.1100 - accuracy: 0.9546 - val_loss: 0.0251 - val_accuracy: 0.9915\n",
            "Epoch 2/10\n",
            "45/45 [==============================] - 9s 199ms/step - loss: 0.0216 - accuracy: 0.9936 - val_loss: 0.0220 - val_accuracy: 0.9922\n",
            "Epoch 3/10\n",
            "45/45 [==============================] - 9s 199ms/step - loss: 0.0195 - accuracy: 0.9949 - val_loss: 0.0197 - val_accuracy: 0.9936\n",
            "Epoch 4/10\n",
            "45/45 [==============================] - 9s 201ms/step - loss: 0.0118 - accuracy: 0.9968 - val_loss: 0.0185 - val_accuracy: 0.9936\n",
            "Epoch 5/10\n",
            "45/45 [==============================] - 9s 194ms/step - loss: 0.0139 - accuracy: 0.9965 - val_loss: 0.0172 - val_accuracy: 0.9936\n",
            "Epoch 6/10\n",
            "45/45 [==============================] - 9s 198ms/step - loss: 0.0108 - accuracy: 0.9966 - val_loss: 0.0178 - val_accuracy: 0.9936\n",
            "Epoch 7/10\n",
            "45/45 [==============================] - 9s 200ms/step - loss: 0.0087 - accuracy: 0.9973 - val_loss: 0.0152 - val_accuracy: 0.9936\n",
            "Epoch 8/10\n",
            "45/45 [==============================] - 9s 198ms/step - loss: 0.0075 - accuracy: 0.9984 - val_loss: 0.0155 - val_accuracy: 0.9936\n",
            "Epoch 9/10\n",
            "45/45 [==============================] - 9s 193ms/step - loss: 0.0086 - accuracy: 0.9979 - val_loss: 0.0165 - val_accuracy: 0.9936\n",
            "Epoch 10/10\n",
            "45/45 [==============================] - 9s 197ms/step - loss: 0.0070 - accuracy: 0.9977 - val_loss: 0.0154 - val_accuracy: 0.9936\n"
          ],
          "name": "stdout"
        },
        {
          "output_type": "display_data",
          "data": {
            "text/html": [
              "<span style=\"color:#4527A0\"><h1 style=\"font-size:18px\">Trial complete</h1></span>"
            ],
            "text/plain": [
              "<IPython.core.display.HTML object>"
            ]
          },
          "metadata": {
            "tags": []
          }
        },
        {
          "output_type": "display_data",
          "data": {
            "text/html": [
              "<span style=\"color:#4527A0\"><h1 style=\"font-size:18px\">Trial summary</h1></span>"
            ],
            "text/plain": [
              "<IPython.core.display.HTML object>"
            ]
          },
          "metadata": {
            "tags": []
          }
        },
        {
          "output_type": "display_data",
          "data": {
            "text/html": [
              "<span style=\"color:cyan\"> |-Trial ID: d85f2b6c4f5fd32da1ba373c28bc5e2b</span>"
            ],
            "text/plain": [
              "<IPython.core.display.HTML object>"
            ]
          },
          "metadata": {
            "tags": []
          }
        },
        {
          "output_type": "display_data",
          "data": {
            "text/html": [
              "<span style=\"color:cyan\"> |-Score: 0.006986039225012064</span>"
            ],
            "text/plain": [
              "<IPython.core.display.HTML object>"
            ]
          },
          "metadata": {
            "tags": []
          }
        },
        {
          "output_type": "display_data",
          "data": {
            "text/html": [
              "<span style=\"color:cyan\"> |-Best step: 0</span>"
            ],
            "text/plain": [
              "<IPython.core.display.HTML object>"
            ]
          },
          "metadata": {
            "tags": []
          }
        },
        {
          "output_type": "display_data",
          "data": {
            "text/html": [
              "<span style=\"color:#7E57C2\"><h2 style=\"font-size:16px\">Hyperparameters:</h2></span>"
            ],
            "text/plain": [
              "<IPython.core.display.HTML object>"
            ]
          },
          "metadata": {
            "tags": []
          }
        },
        {
          "output_type": "display_data",
          "data": {
            "text/html": [
              "<span style=\"color:cyan\"> |-activation: relu</span>"
            ],
            "text/plain": [
              "<IPython.core.display.HTML object>"
            ]
          },
          "metadata": {
            "tags": []
          }
        },
        {
          "output_type": "display_data",
          "data": {
            "text/html": [
              "<span style=\"color:blue\"> |-dropout: 0.35</span>"
            ],
            "text/plain": [
              "<IPython.core.display.HTML object>"
            ]
          },
          "metadata": {
            "tags": []
          }
        },
        {
          "output_type": "display_data",
          "data": {
            "text/html": [
              "<span style=\"color:cyan\"> |-lr: 0.0926</span>"
            ],
            "text/plain": [
              "<IPython.core.display.HTML object>"
            ]
          },
          "metadata": {
            "tags": []
          }
        },
        {
          "output_type": "display_data",
          "data": {
            "text/html": [
              "<span style=\"color:blue\"> |-optimizer: adam</span>"
            ],
            "text/plain": [
              "<IPython.core.display.HTML object>"
            ]
          },
          "metadata": {
            "tags": []
          }
        },
        {
          "output_type": "display_data",
          "data": {
            "text/html": [
              "<span style=\"color:cyan\"> |-tuner/bracket: 0</span>"
            ],
            "text/plain": [
              "<IPython.core.display.HTML object>"
            ]
          },
          "metadata": {
            "tags": []
          }
        },
        {
          "output_type": "display_data",
          "data": {
            "text/html": [
              "<span style=\"color:blue\"> |-tuner/epochs: 10</span>"
            ],
            "text/plain": [
              "<IPython.core.display.HTML object>"
            ]
          },
          "metadata": {
            "tags": []
          }
        },
        {
          "output_type": "display_data",
          "data": {
            "text/html": [
              "<span style=\"color:cyan\"> |-tuner/initial_epoch: 0</span>"
            ],
            "text/plain": [
              "<IPython.core.display.HTML object>"
            ]
          },
          "metadata": {
            "tags": []
          }
        },
        {
          "output_type": "display_data",
          "data": {
            "text/html": [
              "<span style=\"color:blue\"> |-tuner/round: 0</span>"
            ],
            "text/plain": [
              "<IPython.core.display.HTML object>"
            ]
          },
          "metadata": {
            "tags": []
          }
        },
        {
          "output_type": "stream",
          "text": [
            "WARNING:tensorflow:`input_shape` is undefined or non-square, or `rows` is not in [96, 128, 160, 192, 224]. Weights for input shape (224, 224) will be loaded as the default.\n",
            "Epoch 1/10\n",
            "45/45 [==============================] - 10s 211ms/step - loss: 0.0916 - accuracy: 0.9661 - val_loss: 0.0231 - val_accuracy: 0.9901\n",
            "Epoch 2/10\n",
            "45/45 [==============================] - 9s 196ms/step - loss: 0.0213 - accuracy: 0.9940 - val_loss: 0.0222 - val_accuracy: 0.9908\n",
            "Epoch 3/10\n",
            "45/45 [==============================] - 9s 197ms/step - loss: 0.0147 - accuracy: 0.9956 - val_loss: 0.0154 - val_accuracy: 0.9943\n",
            "Epoch 4/10\n",
            "45/45 [==============================] - 9s 198ms/step - loss: 0.0126 - accuracy: 0.9961 - val_loss: 0.0150 - val_accuracy: 0.9936\n",
            "Epoch 5/10\n",
            "45/45 [==============================] - 9s 197ms/step - loss: 0.0114 - accuracy: 0.9965 - val_loss: 0.0169 - val_accuracy: 0.9936\n",
            "Epoch 6/10\n",
            "45/45 [==============================] - 9s 197ms/step - loss: 0.0094 - accuracy: 0.9968 - val_loss: 0.0146 - val_accuracy: 0.9943\n",
            "Epoch 7/10\n",
            "45/45 [==============================] - 9s 193ms/step - loss: 0.0104 - accuracy: 0.9968 - val_loss: 0.0138 - val_accuracy: 0.9943\n",
            "Epoch 8/10\n",
            "45/45 [==============================] - 9s 196ms/step - loss: 0.0086 - accuracy: 0.9970 - val_loss: 0.0140 - val_accuracy: 0.9950\n",
            "Epoch 9/10\n",
            "45/45 [==============================] - 9s 196ms/step - loss: 0.0061 - accuracy: 0.9988 - val_loss: 0.0131 - val_accuracy: 0.9943\n",
            "Epoch 10/10\n",
            "45/45 [==============================] - 9s 192ms/step - loss: 0.0066 - accuracy: 0.9986 - val_loss: 0.0134 - val_accuracy: 0.9943\n"
          ],
          "name": "stdout"
        },
        {
          "output_type": "display_data",
          "data": {
            "text/html": [
              "<span style=\"color:#4527A0\"><h1 style=\"font-size:18px\">Trial complete</h1></span>"
            ],
            "text/plain": [
              "<IPython.core.display.HTML object>"
            ]
          },
          "metadata": {
            "tags": []
          }
        },
        {
          "output_type": "display_data",
          "data": {
            "text/html": [
              "<span style=\"color:#4527A0\"><h1 style=\"font-size:18px\">Trial summary</h1></span>"
            ],
            "text/plain": [
              "<IPython.core.display.HTML object>"
            ]
          },
          "metadata": {
            "tags": []
          }
        },
        {
          "output_type": "display_data",
          "data": {
            "text/html": [
              "<span style=\"color:cyan\"> |-Trial ID: 6d26f3d358ed4d4ded795bc56f29ee32</span>"
            ],
            "text/plain": [
              "<IPython.core.display.HTML object>"
            ]
          },
          "metadata": {
            "tags": []
          }
        },
        {
          "output_type": "display_data",
          "data": {
            "text/html": [
              "<span style=\"color:cyan\"> |-Score: 0.006063214968889952</span>"
            ],
            "text/plain": [
              "<IPython.core.display.HTML object>"
            ]
          },
          "metadata": {
            "tags": []
          }
        },
        {
          "output_type": "display_data",
          "data": {
            "text/html": [
              "<span style=\"color:cyan\"> |-Best step: 0</span>"
            ],
            "text/plain": [
              "<IPython.core.display.HTML object>"
            ]
          },
          "metadata": {
            "tags": []
          }
        },
        {
          "output_type": "display_data",
          "data": {
            "text/html": [
              "<span style=\"color:#7E57C2\"><h2 style=\"font-size:16px\">Hyperparameters:</h2></span>"
            ],
            "text/plain": [
              "<IPython.core.display.HTML object>"
            ]
          },
          "metadata": {
            "tags": []
          }
        },
        {
          "output_type": "display_data",
          "data": {
            "text/html": [
              "<span style=\"color:cyan\"> |-activation: tanh</span>"
            ],
            "text/plain": [
              "<IPython.core.display.HTML object>"
            ]
          },
          "metadata": {
            "tags": []
          }
        },
        {
          "output_type": "display_data",
          "data": {
            "text/html": [
              "<span style=\"color:blue\"> |-dropout: 0.44</span>"
            ],
            "text/plain": [
              "<IPython.core.display.HTML object>"
            ]
          },
          "metadata": {
            "tags": []
          }
        },
        {
          "output_type": "display_data",
          "data": {
            "text/html": [
              "<span style=\"color:cyan\"> |-lr: 0.0331</span>"
            ],
            "text/plain": [
              "<IPython.core.display.HTML object>"
            ]
          },
          "metadata": {
            "tags": []
          }
        },
        {
          "output_type": "display_data",
          "data": {
            "text/html": [
              "<span style=\"color:blue\"> |-optimizer: rmsprop</span>"
            ],
            "text/plain": [
              "<IPython.core.display.HTML object>"
            ]
          },
          "metadata": {
            "tags": []
          }
        },
        {
          "output_type": "display_data",
          "data": {
            "text/html": [
              "<span style=\"color:cyan\"> |-tuner/bracket: 0</span>"
            ],
            "text/plain": [
              "<IPython.core.display.HTML object>"
            ]
          },
          "metadata": {
            "tags": []
          }
        },
        {
          "output_type": "display_data",
          "data": {
            "text/html": [
              "<span style=\"color:blue\"> |-tuner/epochs: 10</span>"
            ],
            "text/plain": [
              "<IPython.core.display.HTML object>"
            ]
          },
          "metadata": {
            "tags": []
          }
        },
        {
          "output_type": "display_data",
          "data": {
            "text/html": [
              "<span style=\"color:cyan\"> |-tuner/initial_epoch: 0</span>"
            ],
            "text/plain": [
              "<IPython.core.display.HTML object>"
            ]
          },
          "metadata": {
            "tags": []
          }
        },
        {
          "output_type": "display_data",
          "data": {
            "text/html": [
              "<span style=\"color:blue\"> |-tuner/round: 0</span>"
            ],
            "text/plain": [
              "<IPython.core.display.HTML object>"
            ]
          },
          "metadata": {
            "tags": []
          }
        },
        {
          "output_type": "stream",
          "text": [
            "WARNING:tensorflow:`input_shape` is undefined or non-square, or `rows` is not in [96, 128, 160, 192, 224]. Weights for input shape (224, 224) will be loaded as the default.\n",
            "Epoch 1/10\n",
            "45/45 [==============================] - 10s 213ms/step - loss: 0.1303 - accuracy: 0.9475 - val_loss: 0.0333 - val_accuracy: 0.9901\n",
            "Epoch 2/10\n",
            "45/45 [==============================] - 9s 196ms/step - loss: 0.0225 - accuracy: 0.9926 - val_loss: 0.0239 - val_accuracy: 0.9936\n",
            "Epoch 3/10\n",
            "45/45 [==============================] - 9s 198ms/step - loss: 0.0187 - accuracy: 0.9938 - val_loss: 0.0242 - val_accuracy: 0.9929\n",
            "Epoch 4/10\n",
            "45/45 [==============================] - 9s 197ms/step - loss: 0.0132 - accuracy: 0.9970 - val_loss: 0.0211 - val_accuracy: 0.9943\n",
            "Epoch 5/10\n",
            "45/45 [==============================] - 9s 199ms/step - loss: 0.0115 - accuracy: 0.9968 - val_loss: 0.0211 - val_accuracy: 0.9936\n",
            "Epoch 6/10\n",
            "45/45 [==============================] - 9s 199ms/step - loss: 0.0113 - accuracy: 0.9966 - val_loss: 0.0193 - val_accuracy: 0.9929\n",
            "Epoch 7/10\n",
            "45/45 [==============================] - 9s 198ms/step - loss: 0.0104 - accuracy: 0.9961 - val_loss: 0.0187 - val_accuracy: 0.9943\n",
            "Epoch 8/10\n",
            "45/45 [==============================] - 9s 199ms/step - loss: 0.0082 - accuracy: 0.9977 - val_loss: 0.0180 - val_accuracy: 0.9936\n",
            "Epoch 9/10\n",
            "45/45 [==============================] - 9s 192ms/step - loss: 0.0089 - accuracy: 0.9970 - val_loss: 0.0170 - val_accuracy: 0.9936\n",
            "Epoch 10/10\n",
            "45/45 [==============================] - 9s 194ms/step - loss: 0.0085 - accuracy: 0.9979 - val_loss: 0.0170 - val_accuracy: 0.9943\n"
          ],
          "name": "stdout"
        },
        {
          "output_type": "display_data",
          "data": {
            "text/html": [
              "<span style=\"color:#4527A0\"><h1 style=\"font-size:18px\">Trial complete</h1></span>"
            ],
            "text/plain": [
              "<IPython.core.display.HTML object>"
            ]
          },
          "metadata": {
            "tags": []
          }
        },
        {
          "output_type": "display_data",
          "data": {
            "text/html": [
              "<span style=\"color:#4527A0\"><h1 style=\"font-size:18px\">Trial summary</h1></span>"
            ],
            "text/plain": [
              "<IPython.core.display.HTML object>"
            ]
          },
          "metadata": {
            "tags": []
          }
        },
        {
          "output_type": "display_data",
          "data": {
            "text/html": [
              "<span style=\"color:cyan\"> |-Trial ID: 27c5b31b6c3f405fadb06f8c602415bf</span>"
            ],
            "text/plain": [
              "<IPython.core.display.HTML object>"
            ]
          },
          "metadata": {
            "tags": []
          }
        },
        {
          "output_type": "display_data",
          "data": {
            "text/html": [
              "<span style=\"color:cyan\"> |-Score: 0.008159262128174305</span>"
            ],
            "text/plain": [
              "<IPython.core.display.HTML object>"
            ]
          },
          "metadata": {
            "tags": []
          }
        },
        {
          "output_type": "display_data",
          "data": {
            "text/html": [
              "<span style=\"color:cyan\"> |-Best step: 0</span>"
            ],
            "text/plain": [
              "<IPython.core.display.HTML object>"
            ]
          },
          "metadata": {
            "tags": []
          }
        },
        {
          "output_type": "display_data",
          "data": {
            "text/html": [
              "<span style=\"color:#7E57C2\"><h2 style=\"font-size:16px\">Hyperparameters:</h2></span>"
            ],
            "text/plain": [
              "<IPython.core.display.HTML object>"
            ]
          },
          "metadata": {
            "tags": []
          }
        },
        {
          "output_type": "display_data",
          "data": {
            "text/html": [
              "<span style=\"color:cyan\"> |-activation: sigmoid</span>"
            ],
            "text/plain": [
              "<IPython.core.display.HTML object>"
            ]
          },
          "metadata": {
            "tags": []
          }
        },
        {
          "output_type": "display_data",
          "data": {
            "text/html": [
              "<span style=\"color:blue\"> |-dropout: 0.44</span>"
            ],
            "text/plain": [
              "<IPython.core.display.HTML object>"
            ]
          },
          "metadata": {
            "tags": []
          }
        },
        {
          "output_type": "display_data",
          "data": {
            "text/html": [
              "<span style=\"color:cyan\"> |-lr: 0.0331</span>"
            ],
            "text/plain": [
              "<IPython.core.display.HTML object>"
            ]
          },
          "metadata": {
            "tags": []
          }
        },
        {
          "output_type": "display_data",
          "data": {
            "text/html": [
              "<span style=\"color:blue\"> |-optimizer: adam</span>"
            ],
            "text/plain": [
              "<IPython.core.display.HTML object>"
            ]
          },
          "metadata": {
            "tags": []
          }
        },
        {
          "output_type": "display_data",
          "data": {
            "text/html": [
              "<span style=\"color:cyan\"> |-tuner/bracket: 0</span>"
            ],
            "text/plain": [
              "<IPython.core.display.HTML object>"
            ]
          },
          "metadata": {
            "tags": []
          }
        },
        {
          "output_type": "display_data",
          "data": {
            "text/html": [
              "<span style=\"color:blue\"> |-tuner/epochs: 10</span>"
            ],
            "text/plain": [
              "<IPython.core.display.HTML object>"
            ]
          },
          "metadata": {
            "tags": []
          }
        },
        {
          "output_type": "display_data",
          "data": {
            "text/html": [
              "<span style=\"color:cyan\"> |-tuner/initial_epoch: 0</span>"
            ],
            "text/plain": [
              "<IPython.core.display.HTML object>"
            ]
          },
          "metadata": {
            "tags": []
          }
        },
        {
          "output_type": "display_data",
          "data": {
            "text/html": [
              "<span style=\"color:blue\"> |-tuner/round: 0</span>"
            ],
            "text/plain": [
              "<IPython.core.display.HTML object>"
            ]
          },
          "metadata": {
            "tags": []
          }
        },
        {
          "output_type": "stream",
          "text": [
            "INFO:tensorflow:Oracle triggered exit\n"
          ],
          "name": "stdout"
        }
      ]
    },
    {
      "cell_type": "code",
      "metadata": {
        "id": "y7OyzmcrmJSt"
      },
      "source": [
        "tuner.results_summary()"
      ],
      "execution_count": null,
      "outputs": []
    },
    {
      "cell_type": "code",
      "metadata": {
        "id": "XVHzXLSomJVe",
        "colab": {
          "base_uri": "https://localhost:8080/",
          "height": 54
        },
        "outputId": "6eb794de-82d9-4faa-856a-6fbc6ab7dfd1"
      },
      "source": [
        "best_model = tuner.get_best_models(num_models=1)[0]\n",
        "#best_model.summary()"
      ],
      "execution_count": null,
      "outputs": [
        {
          "output_type": "stream",
          "text": [
            "WARNING:tensorflow:`input_shape` is undefined or non-square, or `rows` is not in [96, 128, 160, 192, 224]. Weights for input shape (224, 224) will be loaded as the default.\n"
          ],
          "name": "stdout"
        }
      ]
    },
    {
      "cell_type": "code",
      "metadata": {
        "id": "_woYiKDdmJYb",
        "colab": {
          "base_uri": "https://localhost:8080/",
          "height": 85
        },
        "outputId": "4e5cceb8-259b-4dac-fa83-746312bc0eac"
      },
      "source": [
        "## RANDOM SEARCH\n",
        "loss, accuracy = best_model.evaluate(testX, testY)\n",
        "print(loss)\n",
        "print(accuracy)\n",
        "# RANDOM SEARCH BEST\n",
        "print(tuner.oracle.get_best_trials(num_trials=1)[0].hyperparameters.values)"
      ],
      "execution_count": null,
      "outputs": [
        {
          "output_type": "stream",
          "text": [
            "45/45 [==============================] - 2s 42ms/step - loss: 0.0155 - accuracy: 0.9936\n",
            "0.015488160774111748\n",
            "0.9936350584030151\n",
            "{'dropout': 0.34, 'activation': 'tanh', 'lr': 0.0331, 'optimizer': 'sgd'}\n"
          ],
          "name": "stdout"
        }
      ]
    },
    {
      "cell_type": "code",
      "metadata": {
        "id": "GDcR4717TK8v",
        "colab": {
          "base_uri": "https://localhost:8080/",
          "height": 85
        },
        "outputId": "8a9bc92d-dbb9-468c-d6ee-af61cf416fe3"
      },
      "source": [
        "## BAYESIAN\n",
        "loss, accuracy = best_model.evaluate(testX, testY)\n",
        "print(loss)\n",
        "print(accuracy)\n",
        "\n",
        "# BAYESIAN BEST\n",
        "print(tuner.oracle.get_best_trials(num_trials=1)[0].hyperparameters.values)"
      ],
      "execution_count": null,
      "outputs": [
        {
          "output_type": "stream",
          "text": [
            "45/45 [==============================] - 4s 86ms/step - loss: 0.0140 - accuracy: 0.9936\n",
            "0.014016383327543736\n",
            "0.9936350584030151\n",
            "{'dropout': 0.44, 'activation': 'tanh', 'lr': 0.0926, 'optimizer': 'adam'}\n"
          ],
          "name": "stdout"
        }
      ]
    },
    {
      "cell_type": "code",
      "metadata": {
        "id": "HRFNuAOCBIQ3",
        "colab": {
          "base_uri": "https://localhost:8080/",
          "height": 105
        },
        "outputId": "04e76835-5ae9-469d-9707-5ee94555d2d8"
      },
      "source": [
        "## HYPERBAND SEARCH\n",
        "loss, accuracy = best_model.evaluate(testX, testY)\n",
        "print(loss)\n",
        "print(accuracy)\n",
        "# RANDOM SEARCH BEST\n",
        "print(tuner.oracle.get_best_trials(num_trials=1)[0].hyperparameters.values)"
      ],
      "execution_count": null,
      "outputs": [
        {
          "output_type": "stream",
          "text": [
            "45/45 [==============================] - 2s 42ms/step - loss: 0.0131 - accuracy: 0.9943\n",
            "0.013121945783495903\n",
            "0.9943422675132751\n",
            "{'dropout': 0.44, 'activation': 'tanh', 'lr': 0.0331, 'optimizer': 'rmsprop', 'tuner/epochs': 10, 'tuner/initial_epoch': 0, 'tuner/bracket': 0, 'tuner/round': 0}\n"
          ],
          "name": "stdout"
        }
      ]
    },
    {
      "cell_type": "markdown",
      "metadata": {
        "id": "njnsZJWet0PC"
      },
      "source": [
        "# Log Random Search\n",
        "\n",
        "45/45 [==============================] - 2s 42ms/step \n",
        "\n",
        "loss: 0.0155 - accuracy: 0.9936\n",
        "\n",
        "0.015488160774111748 ;\n",
        "0.9936350584030151\n",
        "\n",
        "{'dropout': 0.34, 'activation': 'tanh', 'lr': 0.0331, 'optimizer': 'sgd'}\n"
      ]
    },
    {
      "cell_type": "markdown",
      "metadata": {
        "id": "g1Imw5xAteb9"
      },
      "source": [
        "# Log Bayesian Search\n",
        "\n",
        "45/45 [==============================] - 4s 86ms/step -\n",
        "\n",
        "loss: 0.0140 - accuracy: 0.9936\n",
        "\n",
        "0.014016383327543736\n",
        "0.9936350584030151\n",
        "\n",
        "{'dropout': 0.44, 'activation': 'tanh', 'lr': 0.0926, 'optimizer': 'adam'}\n",
        "\n"
      ]
    },
    {
      "cell_type": "markdown",
      "metadata": {
        "id": "u8xY4sA_BsWG"
      },
      "source": [
        "# Log Hyperband Search\n",
        "\n",
        "45/45 [==============================] - 2s 42ms/step -\n",
        "\n",
        "loss: 0.0131 - accuracy: 0.9943\n",
        "\n",
        "0.013121945783495903; \n",
        "0.9943422675132751\n",
        "\n",
        "{'dropout': 0.44, 'activation': 'tanh', 'lr': 0.0331, 'optimizer': 'rmsprop', 'tuner/epochs': 10, 'tuner/initial_epoch': 0, 'tuner/bracket': 0, 'tuner/round': 0}"
      ]
    },
    {
      "cell_type": "code",
      "metadata": {
        "id": "SAVN2ggLmJkq"
      },
      "source": [
        "best_model.save('/content/drive/My Drive/Ds_lab/Modelli_Trained/Mobilet_tuned_Bayesian', save_format=\"h5\")"
      ],
      "execution_count": null,
      "outputs": []
    },
    {
      "cell_type": "markdown",
      "metadata": {
        "id": "Z1MaFeWsIc_m"
      },
      "source": [
        "# COSTRUZIONE MODELLI BEST"
      ]
    },
    {
      "cell_type": "markdown",
      "metadata": {
        "id": "PisA4BzgMRFd"
      },
      "source": [
        "## Hyperband Search Best\n",
        "{'dropout': 0.44, 'activation': 'tanh', 'lr': 0.0331, 'optimizer': 'rmsprop', 'tuner/epochs': 10, 'tuner/initial_epoch': 0, 'tuner/bracket': 0, 'tuner/round': 0}"
      ]
    },
    {
      "cell_type": "code",
      "metadata": {
        "id": "hFWd7GA7-zlf",
        "colab": {
          "base_uri": "https://localhost:8080/",
          "height": 1000
        },
        "outputId": "afe25881-c04a-4b3c-f465-3af8fdca4322"
      },
      "source": [
        "from tensorflow.keras.preprocessing.image import ImageDataGenerator\n",
        "from tensorflow.keras.applications import MobileNetV2\n",
        "from tensorflow.keras.layers import AveragePooling2D\n",
        "from tensorflow.keras.layers import Dropout\n",
        "from tensorflow.keras.layers import Flatten\n",
        "from tensorflow.keras.layers import Dense\n",
        "from tensorflow.keras.layers import Input\n",
        "from tensorflow.keras.models import Model\n",
        "from tensorflow.keras.optimizers import RMSprop\n",
        "from tensorflow.keras.applications.mobilenet_v2 import preprocess_input\n",
        "from tensorflow.keras.preprocessing.image import img_to_array\n",
        "from tensorflow.keras.preprocessing.image import load_img\n",
        "from tensorflow.keras.utils import to_categorical\n",
        "from sklearn.preprocessing import LabelBinarizer\n",
        "from sklearn.model_selection import train_test_split\n",
        "from sklearn.metrics import classification_report\n",
        "from imutils import paths\n",
        "import matplotlib.pyplot as plt\n",
        "import numpy as np\n",
        "import argparse\n",
        "import os\n",
        "\n",
        "# Stabilisco i parametri di partenza. In particolare, inizilizziamo il learning rate, il numero di epoche e la dimensione dei batches\n",
        "INIT_LR = 0.0331\n",
        "EPOCHS = 15\n",
        "BS = 128\n",
        "('Initialized...')\n",
        "\n",
        "# Carichiamo il modello MobileNetV2, \n",
        "# assicurandoci di non includere gli strati Fully Connected per ora.\n",
        "baseModel = MobileNetV2(weights=\"imagenet\", include_top=False,\n",
        "    input_tensor=Input(shape=(224, 224, 3)))\n",
        "\n",
        "# Costruiamo la 'Head' del modello, che sarà posizionata sopra il Base Model\n",
        "headModel = baseModel.output\n",
        "headModel = AveragePooling2D(pool_size=(7, 7))(headModel)\n",
        "headModel = Flatten(name=\"flatten\")(headModel)\n",
        "headModel = Dense(128, activation=\"tanh\")(headModel)\n",
        "headModel = Dropout(0.44)(headModel)\n",
        "headModel = Dense(2, activation=\"softmax\")(headModel) \n",
        "                        \n",
        "# Posizioniamo la 'Head' del modello (che contiene i nostri strati Fully Connected) sopra il Base Model\n",
        "model = Model(inputs=baseModel.input, outputs=headModel)\n",
        "\n",
        "# Iteriamo sopra tutti gli strati del Base Model. COntestualmente applichiamo un Freeze, in modo che i relativi parametri \n",
        "# non vengano aggiornati durante il primo processo di training\n",
        "for layer in baseModel.layers:\n",
        "    layer.trainable = False\n",
        "\n",
        "\n",
        "# Compiliamo il modello specificando la funzione di Ottimizzazione, la funzione di Perdita e la metrica per valutare la performance\n",
        "opt = RMSprop(lr=INIT_LR, decay=INIT_LR / EPOCHS)\n",
        "model.compile(loss=\"binary_crossentropy\", optimizer=opt,\n",
        "    metrics=[\"accuracy\"])\n",
        "print('Compiled...')\n",
        "\n",
        "# Fitting del Modello\n",
        "H = model.fit(\n",
        "    aug.flow(trainX, trainY, batch_size=BS),\n",
        "    steps_per_epoch=len(trainX) // BS,\n",
        "    validation_data=(testX, testY),\n",
        "    validation_steps=len(testX) // BS,\n",
        "    epochs=EPOCHS)\n",
        "\n",
        "model.save('/content/drive/My Drive/Ds_lab/Modelli_Trained/MobileNet_Tuned_Hyperband2', save_format=\"h5\")\n",
        "\n",
        "# per ogni immagine nel test set troviamo l'indice della label alla quale è collegata la probabilità predetta più alta. \n",
        "predIdxs = model.predict(testX, batch_size=BS)\n",
        "predIdxs = np.argmax(predIdxs, axis=1)\n",
        "\n",
        "# Printiamo un report della performance del modello\n",
        "print(classification_report(testY.argmax(axis=1), predIdxs,target_names=lb.classes_))\n",
        "\n",
        "## Plotting Training Loss Accuracy per Epoca\n",
        "N = EPOCHS\n",
        "#H = history\n",
        "START = 0\n",
        "plt.style.use(\"ggplot\")\n",
        "plt.figure()\n",
        "plt.figure(figsize=(12,8))\n",
        "#plt.axvline(11,label='Best number of epochs', color='m')\n",
        "plt.plot(np.arange(START, N), H.history[\"loss\"][START:30], label=\"Train_Loss\")\n",
        "plt.plot(np.arange(START, N), H.history[\"val_loss\"][START:30], label=\"Val_Loss\")\n",
        "plt.plot(np.arange(START, N), H.history[\"accuracy\"][START:30], label=\"Train_Acc\")\n",
        "plt.plot(np.arange(START, N), H.history[\"val_accuracy\"][START:30], label=\"Val_Acc\")\n",
        "plt.title(\"Training Loss and Accuracy\")\n",
        "plt.xlabel(\"Epoch #\")\n",
        "plt.ylabel(\"Loss/Accuracy\")\n",
        "plt.legend(loc=\"center right\")\n",
        "plt.savefig('/content/drive/My Drive/Ds_lab/Modelli_Trained/Training_Loss_Accuracy.jpg')"
      ],
      "execution_count": null,
      "outputs": [
        {
          "output_type": "stream",
          "text": [
            "WARNING:tensorflow:`input_shape` is undefined or non-square, or `rows` is not in [96, 128, 160, 192, 224]. Weights for input shape (224, 224) will be loaded as the default.\n",
            "Compiled...\n",
            "Epoch 1/15\n",
            "44/44 [==============================] - 60s 1s/step - loss: 1.0978 - accuracy: 0.7668 - val_loss: 0.0702 - val_accuracy: 0.9795\n",
            "Epoch 2/15\n",
            "44/44 [==============================] - 58s 1s/step - loss: 0.2523 - accuracy: 0.9309 - val_loss: 0.0501 - val_accuracy: 0.9894\n",
            "Epoch 3/15\n",
            "44/44 [==============================] - 59s 1s/step - loss: 0.1847 - accuracy: 0.9493 - val_loss: 0.1530 - val_accuracy: 0.9554\n",
            "Epoch 4/15\n",
            "44/44 [==============================] - 59s 1s/step - loss: 0.1278 - accuracy: 0.9691 - val_loss: 0.0445 - val_accuracy: 0.9908\n",
            "Epoch 5/15\n",
            "44/44 [==============================] - 59s 1s/step - loss: 0.1186 - accuracy: 0.9723 - val_loss: 0.0583 - val_accuracy: 0.9844\n",
            "Epoch 6/15\n",
            "44/44 [==============================] - 59s 1s/step - loss: 0.1123 - accuracy: 0.9736 - val_loss: 0.0723 - val_accuracy: 0.9823\n",
            "Epoch 7/15\n",
            "44/44 [==============================] - 57s 1s/step - loss: 0.0798 - accuracy: 0.9790 - val_loss: 0.0718 - val_accuracy: 0.9873\n",
            "Epoch 8/15\n",
            "44/44 [==============================] - 57s 1s/step - loss: 0.0922 - accuracy: 0.9799 - val_loss: 0.0590 - val_accuracy: 0.9894\n",
            "Epoch 9/15\n",
            "44/44 [==============================] - 57s 1s/step - loss: 0.1008 - accuracy: 0.9783 - val_loss: 0.0685 - val_accuracy: 0.9873\n",
            "Epoch 10/15\n",
            "44/44 [==============================] - 56s 1s/step - loss: 0.0993 - accuracy: 0.9787 - val_loss: 0.0450 - val_accuracy: 0.9894\n",
            "Epoch 11/15\n",
            "44/44 [==============================] - 57s 1s/step - loss: 0.0898 - accuracy: 0.9808 - val_loss: 0.0700 - val_accuracy: 0.9851\n",
            "Epoch 12/15\n",
            "44/44 [==============================] - 57s 1s/step - loss: 0.0693 - accuracy: 0.9853 - val_loss: 0.0615 - val_accuracy: 0.9887\n",
            "Epoch 13/15\n",
            "44/44 [==============================] - 57s 1s/step - loss: 0.0564 - accuracy: 0.9881 - val_loss: 0.0411 - val_accuracy: 0.9936\n",
            "Epoch 14/15\n",
            "44/44 [==============================] - 57s 1s/step - loss: 0.0524 - accuracy: 0.9868 - val_loss: 0.0493 - val_accuracy: 0.9866\n",
            "Epoch 15/15\n",
            "44/44 [==============================] - 56s 1s/step - loss: 0.0620 - accuracy: 0.9868 - val_loss: 0.0400 - val_accuracy: 0.9922\n",
            "                   precision    recall  f1-score   support\n",
            "\n",
            "   face_with_mask       0.98      0.99      0.99       441\n",
            "face_without_mask       1.00      0.99      0.99       973\n",
            "\n",
            "         accuracy                           0.99      1414\n",
            "        macro avg       0.99      0.99      0.99      1414\n",
            "     weighted avg       0.99      0.99      0.99      1414\n",
            "\n"
          ],
          "name": "stdout"
        },
        {
          "output_type": "display_data",
          "data": {
            "text/plain": [
              "<Figure size 432x288 with 0 Axes>"
            ]
          },
          "metadata": {
            "tags": []
          }
        },
        {
          "output_type": "display_data",
          "data": {
            "image/png": "[encoded data removed]",
            "text/plain": [
              "<Figure size 864x576 with 1 Axes>"
            ]
          },
          "metadata": {
            "tags": []
          }
        }
      ]
    },
    {
      "cell_type": "code",
      "metadata": {
        "id": "pPgy7n3P-AmF",
        "colab": {
          "base_uri": "https://localhost:8080/",
          "height": 534
        },
        "outputId": "70b608ab-0cc4-4165-fcc6-0c59c5427420"
      },
      "source": [
        "## Plotting Training Loss Accuracy per Epoca\n",
        "N = EPOCHS\n",
        "#H = history\n",
        "START = 0\n",
        "plt.style.use(\"ggplot\")\n",
        "plt.figure()\n",
        "plt.figure(figsize=(12,8))\n",
        "#plt.axvline(11,label='Best number of epochs', color='m')\n",
        "plt.plot(np.arange(START, N), H.history[\"loss\"][START:30], label=\"Train_Loss\")\n",
        "plt.plot(np.arange(START, N), H.history[\"val_loss\"][START:30], label=\"Val_Loss\")\n",
        "plt.plot(np.arange(START, N), H.history[\"accuracy\"][START:30], label=\"Train_Acc\")\n",
        "plt.plot(np.arange(START, N), H.history[\"val_accuracy\"][START:30], label=\"Val_Acc\")\n",
        "plt.title(\"Training Loss and Accuracy\")\n",
        "plt.xlabel(\"Epoch #\")\n",
        "plt.ylabel(\"Loss/Accuracy\")\n",
        "plt.legend(loc=\"center right\")\n",
        "plt.savefig('/content/drive/My Drive/Ds_lab/Modelli_Trained/Training_Loss_Accuracy_Hyperband.jpg')"
      ],
      "execution_count": null,
      "outputs": [
        {
          "output_type": "display_data",
          "data": {
            "text/plain": [
              "<Figure size 432x288 with 0 Axes>"
            ]
          },
          "metadata": {
            "tags": []
          }
        },
        {
          "output_type": "display_data",
          "data": {
            "image/png": "[encoded data removed]",
            "text/plain": [
              "<Figure size 864x576 with 1 Axes>"
            ]
          },
          "metadata": {
            "tags": []
          }
        }
      ]
    },
    {
      "cell_type": "code",
      "metadata": {
        "id": "x81fSXqgJgAw"
      },
      "source": [
        "model.save('/content/drive/My Drive/Ds_lab/Modelli_Trained/MobileNet_Tuned_Hyperband2', save_format=\"h5\")"
      ],
      "execution_count": null,
      "outputs": []
    },
    {
      "cell_type": "markdown",
      "metadata": {
        "id": "HB4jf1LBrmCM"
      },
      "source": [
        "## Best Bayesian\n",
        "\n",
        "{'dropout': 0.44, 'activation': 'tanh', 'lr': 0.0926, 'optimizer': 'adam'}"
      ]
    },
    {
      "cell_type": "code",
      "metadata": {
        "id": "At3Fy_sCrg0L",
        "colab": {
          "base_uri": "https://localhost:8080/",
          "height": 1000
        },
        "outputId": "0e9804c2-26db-4677-8795-5a041e96c8a3"
      },
      "source": [
        "from tensorflow.keras.preprocessing.image import ImageDataGenerator\n",
        "from tensorflow.keras.applications import MobileNetV2\n",
        "from tensorflow.keras.layers import AveragePooling2D\n",
        "from tensorflow.keras.layers import Dropout\n",
        "from tensorflow.keras.layers import Flatten\n",
        "from tensorflow.keras.layers import Dense\n",
        "from tensorflow.keras.layers import Input\n",
        "from tensorflow.keras.models import Model\n",
        "from tensorflow.keras.optimizers import Adam\n",
        "from tensorflow.keras.applications.mobilenet_v2 import preprocess_input\n",
        "from tensorflow.keras.preprocessing.image import img_to_array\n",
        "from tensorflow.keras.preprocessing.image import load_img\n",
        "from tensorflow.keras.utils import to_categorical\n",
        "from sklearn.preprocessing import LabelBinarizer\n",
        "from sklearn.model_selection import train_test_split\n",
        "from sklearn.metrics import classification_report\n",
        "from imutils import paths\n",
        "import matplotlib.pyplot as plt\n",
        "import numpy as np\n",
        "import argparse\n",
        "import os\n",
        "\n",
        "# Stabilisco i parametri di partenza. In particolare, inizilizziamo il learning rate, il numero di epoche e la dimensione dei batches\n",
        "INIT_LR = 0.0926\n",
        "EPOCHS = 15\n",
        "BS = 128\n",
        "('Initialized...')\n",
        "\n",
        "# Carichiamo il modello MobileNetV2, \n",
        "# assicurandoci di non includere gli strati Fully Connected per ora.\n",
        "baseModel = MobileNetV2(weights=\"imagenet\", include_top=False,\n",
        "    input_tensor=Input(shape=(224, 224, 3)))\n",
        "\n",
        "# Costruiamo la 'Head' del modello, che sarà posizionata sopra il Base Model\n",
        "headModel = baseModel.output\n",
        "headModel = AveragePooling2D(pool_size=(7, 7))(headModel)\n",
        "headModel = Flatten(name=\"flatten\")(headModel)\n",
        "headModel = Dense(128, activation=\"tanh\")(headModel)\n",
        "headModel = Dropout(0.44)(headModel)\n",
        "headModel = Dense(2, activation=\"softmax\")(headModel) \n",
        "                        \n",
        "# Posizioniamo la 'Head' del modello (che contiene i nostri strati Fully Connected) sopra il Base Model\n",
        "model = Model(inputs=baseModel.input, outputs=headModel)\n",
        "\n",
        "# Iteriamo sopra tutti gli strati del Base Model. COntestualmente applichiamo un Freeze, in modo che i relativi parametri \n",
        "# non vengano aggiornati durante il primo processo di training\n",
        "for layer in baseModel.layers:\n",
        "    layer.trainable = False\n",
        "\n",
        "\n",
        "# Compiliamo il modello specificando la funzione di Ottimizzazione, la funzione di Perdita e la metrica per valutare la performance\n",
        "opt = Adam(lr=INIT_LR, decay=INIT_LR / EPOCHS)\n",
        "model.compile(loss=\"binary_crossentropy\", optimizer=opt,\n",
        "    metrics=[\"accuracy\"])\n",
        "print('Compiled...')\n",
        "\n",
        "# Fitting del Modello\n",
        "H = model.fit(\n",
        "    aug.flow(trainX, trainY, batch_size=BS),\n",
        "    steps_per_epoch=len(trainX) // BS,\n",
        "    validation_data=(testX, testY),\n",
        "    validation_steps=len(testX) // BS,\n",
        "    epochs=EPOCHS)\n",
        "\n",
        "model.save('/content/drive/My Drive/Ds_lab/Modelli_Trained/MobileNet_Tuned_Bayesian2', save_format=\"h5\")\n",
        "\n",
        "# per ogni immagine nel test set troviamo l'indice della label alla quale è collegata la probabilità predetta più alta. \n",
        "predIdxs = model.predict(testX, batch_size=BS)\n",
        "predIdxs = np.argmax(predIdxs, axis=1)\n",
        "\n",
        "# Printiamo un report della performance del modello\n",
        "print(classification_report(testY.argmax(axis=1), predIdxs,target_names=lb.classes_))\n",
        "\n",
        "## Plotting Training Loss Accuracy per Epoca\n",
        "N = EPOCHS\n",
        "#H = history\n",
        "START = 0\n",
        "plt.style.use(\"ggplot\")\n",
        "plt.figure()\n",
        "plt.figure(figsize=(12,8))\n",
        "plt.axvline(12,label='Best number of epochs', color='m')\n",
        "plt.plot(np.arange(START, N), H.history[\"loss\"][START:30], label=\"Train_Loss\")\n",
        "plt.plot(np.arange(START, N), H.history[\"val_loss\"][START:30], label=\"Val_Loss\")\n",
        "plt.plot(np.arange(START, N), H.history[\"accuracy\"][START:30], label=\"Train_Acc\")\n",
        "plt.plot(np.arange(START, N), H.history[\"val_accuracy\"][START:30], label=\"Val_Acc\")\n",
        "plt.title(\"Training Loss and Accuracy\")\n",
        "plt.xlabel(\"Epoch #\")\n",
        "plt.ylabel(\"Loss/Accuracy\")\n",
        "plt.legend(loc=\"center right\")\n",
        "plt.savefig('/content/drive/My Drive/Ds_lab/Modelli_Trained/Training_Loss_Accuracy_BayesianBest.jpg')"
      ],
      "execution_count": null,
      "outputs": [
        {
          "output_type": "stream",
          "text": [
            "WARNING:tensorflow:`input_shape` is undefined or non-square, or `rows` is not in [96, 128, 160, 192, 224]. Weights for input shape (224, 224) will be loaded as the default.\n",
            "Compiled...\n",
            "Epoch 1/15\n",
            "44/44 [==============================] - 59s 1s/step - loss: 0.2073 - accuracy: 0.9562 - val_loss: 0.0924 - val_accuracy: 0.9859\n",
            "Epoch 2/15\n",
            "44/44 [==============================] - 57s 1s/step - loss: 0.2484 - accuracy: 0.9550 - val_loss: 0.0846 - val_accuracy: 0.9781\n",
            "Epoch 3/15\n",
            "44/44 [==============================] - 57s 1s/step - loss: 0.2385 - accuracy: 0.9555 - val_loss: 0.1443 - val_accuracy: 0.9675\n",
            "Epoch 4/15\n",
            "44/44 [==============================] - 57s 1s/step - loss: 0.3089 - accuracy: 0.9506 - val_loss: 0.1895 - val_accuracy: 0.9781\n",
            "Epoch 5/15\n",
            "44/44 [==============================] - 57s 1s/step - loss: 0.2580 - accuracy: 0.9580 - val_loss: 0.0879 - val_accuracy: 0.9788\n",
            "Epoch 6/15\n",
            "44/44 [==============================] - 58s 1s/step - loss: 0.2024 - accuracy: 0.9640 - val_loss: 0.1094 - val_accuracy: 0.9851\n",
            "Epoch 7/15\n",
            "44/44 [==============================] - 57s 1s/step - loss: 0.2408 - accuracy: 0.9568 - val_loss: 0.1911 - val_accuracy: 0.9583\n",
            "Epoch 8/15\n",
            "44/44 [==============================] - 57s 1s/step - loss: 0.2430 - accuracy: 0.9533 - val_loss: 0.1022 - val_accuracy: 0.9802\n",
            "Epoch 9/15\n",
            "44/44 [==============================] - 57s 1s/step - loss: 0.1277 - accuracy: 0.9794 - val_loss: 0.0762 - val_accuracy: 0.9851\n",
            "Epoch 10/15\n",
            "44/44 [==============================] - 57s 1s/step - loss: 0.1089 - accuracy: 0.9768 - val_loss: 0.0688 - val_accuracy: 0.9873\n",
            "Epoch 11/15\n",
            "44/44 [==============================] - 58s 1s/step - loss: 0.1147 - accuracy: 0.9790 - val_loss: 0.0759 - val_accuracy: 0.9837\n",
            "Epoch 12/15\n",
            "44/44 [==============================] - 57s 1s/step - loss: 0.1338 - accuracy: 0.9740 - val_loss: 0.0678 - val_accuracy: 0.9823\n",
            "Epoch 13/15\n",
            "44/44 [==============================] - 57s 1s/step - loss: 0.0901 - accuracy: 0.9788 - val_loss: 0.0894 - val_accuracy: 0.9830\n",
            "Epoch 14/15\n",
            "44/44 [==============================] - 57s 1s/step - loss: 0.0804 - accuracy: 0.9828 - val_loss: 0.0709 - val_accuracy: 0.9816\n",
            "Epoch 15/15\n",
            "44/44 [==============================] - 58s 1s/step - loss: 0.0860 - accuracy: 0.9783 - val_loss: 0.0585 - val_accuracy: 0.9859\n",
            "                   precision    recall  f1-score   support\n",
            "\n",
            "   face_with_mask       0.97      0.98      0.98       441\n",
            "face_without_mask       0.99      0.99      0.99       973\n",
            "\n",
            "         accuracy                           0.99      1414\n",
            "        macro avg       0.98      0.99      0.98      1414\n",
            "     weighted avg       0.99      0.99      0.99      1414\n",
            "\n"
          ],
          "name": "stdout"
        },
        {
          "output_type": "display_data",
          "data": {
            "text/plain": [
              "<Figure size 432x288 with 0 Axes>"
            ]
          },
          "metadata": {
            "tags": []
          }
        },
        {
          "output_type": "display_data",
          "data": {
            "image/png": "[encoded data removed]",
            "text/plain": [
              "<Figure size 864x576 with 1 Axes>"
            ]
          },
          "metadata": {
            "tags": []
          }
        }
      ]
    },
    {
      "cell_type": "code",
      "metadata": {
        "id": "NveEPRCayc5i",
        "colab": {
          "base_uri": "https://localhost:8080/",
          "height": 534
        },
        "outputId": "e94deb84-7d1b-4489-829e-9cd36fa35bb3"
      },
      "source": [
        "\n",
        "## Plotting Training Loss Accuracy per Epoca\n",
        "N = EPOCHS\n",
        "#H = history\n",
        "START = 0\n",
        "plt.style.use(\"ggplot\")\n",
        "plt.figure()\n",
        "plt.figure(figsize=(12,8))\n",
        "plt.axvline(12,label='Best number of epochs', color='m')\n",
        "plt.plot(np.arange(START, N), H.history[\"loss\"][START:30], label=\"Train_Loss\")\n",
        "plt.plot(np.arange(START, N), H.history[\"val_loss\"][START:30], label=\"Val_Loss\")\n",
        "plt.plot(np.arange(START, N), H.history[\"accuracy\"][START:30], label=\"Train_Acc\")\n",
        "plt.plot(np.arange(START, N), H.history[\"val_accuracy\"][START:30], label=\"Val_Acc\")\n",
        "plt.title(\"Training Loss and Accuracy\")\n",
        "plt.xlabel(\"Epoch #\")\n",
        "plt.ylabel(\"Loss/Accuracy\")\n",
        "plt.legend(loc=\"center right\")\n",
        "plt.savefig('/content/drive/My Drive/Ds_lab/Modelli_Trained/Training_Loss_Accuracy_BayesianBest.jpg')"
      ],
      "execution_count": null,
      "outputs": [
        {
          "output_type": "display_data",
          "data": {
            "text/plain": [
              "<Figure size 432x288 with 0 Axes>"
            ]
          },
          "metadata": {
            "tags": []
          }
        },
        {
          "output_type": "display_data",
          "data": {
            "image/png": "[encoded data removed]",
            "text/plain": [
              "<Figure size 864x576 with 1 Axes>"
            ]
          },
          "metadata": {
            "tags": []
          }
        }
      ]
    },
    {
      "cell_type": "markdown",
      "metadata": {
        "id": "BXuxgKa4w8P1"
      },
      "source": [
        "## Random Search Best\n",
        "\n",
        "{'dropout': 0.34, 'activation': 'tanh', 'lr': 0.0331, 'optimizer': 'sgd'}\n",
        "\n"
      ]
    },
    {
      "cell_type": "code",
      "metadata": {
        "id": "ijarBCOPw6Ca",
        "colab": {
          "base_uri": "https://localhost:8080/",
          "height": 1000
        },
        "outputId": "048b52c1-1a11-481d-9498-51f912e2f89e"
      },
      "source": [
        "from tensorflow.keras.preprocessing.image import ImageDataGenerator\n",
        "from tensorflow.keras.applications import MobileNetV2\n",
        "from tensorflow.keras.layers import AveragePooling2D\n",
        "from tensorflow.keras.layers import Dropout\n",
        "from tensorflow.keras.layers import Flatten\n",
        "from tensorflow.keras.layers import Dense\n",
        "from tensorflow.keras.layers import Input\n",
        "from tensorflow.keras.models import Model\n",
        "from tensorflow.keras.optimizers import SGD\n",
        "from tensorflow.keras.applications.mobilenet_v2 import preprocess_input\n",
        "from tensorflow.keras.preprocessing.image import img_to_array\n",
        "from tensorflow.keras.preprocessing.image import load_img\n",
        "from tensorflow.keras.utils import to_categorical\n",
        "from sklearn.preprocessing import LabelBinarizer\n",
        "from sklearn.model_selection import train_test_split\n",
        "from sklearn.metrics import classification_report\n",
        "from imutils import paths\n",
        "import matplotlib.pyplot as plt\n",
        "import numpy as np\n",
        "import argparse\n",
        "import os\n",
        "\n",
        "# Stabilisco i parametri di partenza. In particolare, inizilizziamo il learning rate, il numero di epoche e la dimensione dei batches\n",
        "INIT_LR = 0.0331\n",
        "EPOCHS = 15\n",
        "BS = 128\n",
        "('Initialized...')\n",
        "\n",
        "# Carichiamo il modello MobileNetV2, \n",
        "# assicurandoci di non includere gli strati Fully Connected per ora.\n",
        "baseModel = MobileNetV2(weights=\"imagenet\", include_top=False,\n",
        "    input_tensor=Input(shape=(224, 224, 3)))\n",
        "\n",
        "# Costruiamo la 'Head' del modello, che sarà posizionata sopra il Base Model\n",
        "headModel = baseModel.output\n",
        "headModel = AveragePooling2D(pool_size=(7, 7))(headModel)\n",
        "headModel = Flatten(name=\"flatten\")(headModel)\n",
        "headModel = Dense(128, activation=\"tanh\")(headModel)\n",
        "headModel = Dropout(0.34)(headModel)\n",
        "headModel = Dense(2, activation=\"softmax\")(headModel) \n",
        "                        \n",
        "# Posizioniamo la 'Head' del modello (che contiene i nostri strati Fully Connected) sopra il Base Model\n",
        "model = Model(inputs=baseModel.input, outputs=headModel)\n",
        "\n",
        "# Iteriamo sopra tutti gli strati del Base Model. COntestualmente applichiamo un Freeze, in modo che i relativi parametri \n",
        "# non vengano aggiornati durante il primo processo di training\n",
        "for layer in baseModel.layers:\n",
        "    layer.trainable = False\n",
        "\n",
        "\n",
        "# Compiliamo il modello specificando la funzione di Ottimizzazione, la funzione di Perdita e la metrica per valutare la performance\n",
        "opt = SGD(lr=INIT_LR, decay=INIT_LR / EPOCHS)\n",
        "model.compile(loss=\"binary_crossentropy\", optimizer=opt,\n",
        "    metrics=[\"accuracy\"])\n",
        "print('Compiled...')\n",
        "\n",
        "# Fitting del Modello\n",
        "H = model.fit(\n",
        "    aug.flow(trainX, trainY, batch_size=BS),\n",
        "    steps_per_epoch=len(trainX) // BS,\n",
        "    validation_data=(testX, testY),\n",
        "    validation_steps=len(testX) // BS,\n",
        "    epochs=EPOCHS)\n",
        "\n",
        "model.save('/content/drive/My Drive/Ds_lab/Modelli_Trained/MobileNet_Tuned_RandomSearch2', save_format=\"h5\")\n",
        "\n",
        "# per ogni immagine nel test set troviamo l'indice della label alla quale è collegata la probabilità predetta più alta. \n",
        "predIdxs = model.predict(testX, batch_size=BS)\n",
        "predIdxs = np.argmax(predIdxs, axis=1)\n",
        "\n",
        "# Printiamo un report della performance del modello\n",
        "print(classification_report(testY.argmax(axis=1), predIdxs,target_names=lb.classes_))\n",
        "\n",
        "## Plotting Training Loss Accuracy per Epoca\n",
        "N = EPOCHS\n",
        "#H = history\n",
        "START = 0\n",
        "plt.style.use(\"ggplot\")\n",
        "plt.figure()\n",
        "plt.figure(figsize=(12,8))\n",
        "#plt.axvline(11,label='Best number of epochs', color='m')\n",
        "plt.plot(np.arange(START, N), H.history[\"loss\"][START:30], label=\"Train_Loss\")\n",
        "plt.plot(np.arange(START, N), H.history[\"val_loss\"][START:30], label=\"Val_Loss\")\n",
        "plt.plot(np.arange(START, N), H.history[\"accuracy\"][START:30], label=\"Train_Acc\")\n",
        "plt.plot(np.arange(START, N), H.history[\"val_accuracy\"][START:30], label=\"Val_Acc\")\n",
        "plt.title(\"Training Loss and Accuracy\")\n",
        "plt.xlabel(\"Epoch #\")\n",
        "plt.ylabel(\"Loss/Accuracy\")\n",
        "plt.legend(loc=\"center right\")\n",
        "plt.savefig('/content/drive/My Drive/Ds_lab/Modelli_Trained/Training_Loss_Accuracy_RandomSearchBest.jpg')"
      ],
      "execution_count": null,
      "outputs": [
        {
          "output_type": "stream",
          "text": [
            "WARNING:tensorflow:`input_shape` is undefined or non-square, or `rows` is not in [96, 128, 160, 192, 224]. Weights for input shape (224, 224) will be loaded as the default.\n",
            "Compiled...\n",
            "Epoch 1/15\n",
            "44/44 [==============================] - 58s 1s/step - loss: 0.1755 - accuracy: 0.9376 - val_loss: 0.0494 - val_accuracy: 0.9880\n",
            "Epoch 2/15\n",
            "44/44 [==============================] - 57s 1s/step - loss: 0.0499 - accuracy: 0.9875 - val_loss: 0.0404 - val_accuracy: 0.9887\n",
            "Epoch 3/15\n",
            "44/44 [==============================] - 56s 1s/step - loss: 0.0399 - accuracy: 0.9866 - val_loss: 0.0408 - val_accuracy: 0.9866\n",
            "Epoch 4/15\n",
            "44/44 [==============================] - 56s 1s/step - loss: 0.0326 - accuracy: 0.9904 - val_loss: 0.0334 - val_accuracy: 0.9887\n",
            "Epoch 5/15\n",
            "44/44 [==============================] - 56s 1s/step - loss: 0.0308 - accuracy: 0.9915 - val_loss: 0.0334 - val_accuracy: 0.9880\n",
            "Epoch 6/15\n",
            "44/44 [==============================] - 56s 1s/step - loss: 0.0266 - accuracy: 0.9928 - val_loss: 0.0305 - val_accuracy: 0.9901\n",
            "Epoch 7/15\n",
            "44/44 [==============================] - 56s 1s/step - loss: 0.0280 - accuracy: 0.9919 - val_loss: 0.0292 - val_accuracy: 0.9894\n",
            "Epoch 8/15\n",
            "44/44 [==============================] - 56s 1s/step - loss: 0.0242 - accuracy: 0.9922 - val_loss: 0.0288 - val_accuracy: 0.9894\n",
            "Epoch 9/15\n",
            "44/44 [==============================] - 56s 1s/step - loss: 0.0234 - accuracy: 0.9933 - val_loss: 0.0303 - val_accuracy: 0.9901\n",
            "Epoch 10/15\n",
            "44/44 [==============================] - 56s 1s/step - loss: 0.0232 - accuracy: 0.9928 - val_loss: 0.0287 - val_accuracy: 0.9894\n",
            "Epoch 11/15\n",
            "44/44 [==============================] - 56s 1s/step - loss: 0.0261 - accuracy: 0.9920 - val_loss: 0.0289 - val_accuracy: 0.9901\n",
            "Epoch 12/15\n",
            "44/44 [==============================] - 57s 1s/step - loss: 0.0239 - accuracy: 0.9931 - val_loss: 0.0256 - val_accuracy: 0.9901\n",
            "Epoch 13/15\n",
            "44/44 [==============================] - 56s 1s/step - loss: 0.0244 - accuracy: 0.9922 - val_loss: 0.0261 - val_accuracy: 0.9894\n",
            "Epoch 14/15\n",
            "44/44 [==============================] - 56s 1s/step - loss: 0.0204 - accuracy: 0.9933 - val_loss: 0.0265 - val_accuracy: 0.9908\n",
            "Epoch 15/15\n",
            "44/44 [==============================] - 56s 1s/step - loss: 0.0215 - accuracy: 0.9926 - val_loss: 0.0257 - val_accuracy: 0.9908\n",
            "                   precision    recall  f1-score   support\n",
            "\n",
            "   face_with_mask       0.98      0.99      0.99       441\n",
            "face_without_mask       0.99      0.99      0.99       973\n",
            "\n",
            "         accuracy                           0.99      1414\n",
            "        macro avg       0.99      0.99      0.99      1414\n",
            "     weighted avg       0.99      0.99      0.99      1414\n",
            "\n"
          ],
          "name": "stdout"
        },
        {
          "output_type": "display_data",
          "data": {
            "text/plain": [
              "<Figure size 432x288 with 0 Axes>"
            ]
          },
          "metadata": {
            "tags": []
          }
        },
        {
          "output_type": "display_data",
          "data": {
            "image/png": "[encoded data removed]",
            "text/plain": [
              "<Figure size 864x576 with 1 Axes>"
            ]
          },
          "metadata": {
            "tags": []
          }
        }
      ]
    }
  ]
}